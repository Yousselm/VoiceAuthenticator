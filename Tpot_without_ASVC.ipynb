{
 "cells": [
  {
   "cell_type": "code",
   "execution_count": 13,
   "id": "ca0c1db4-0571-45b3-9168-e473582bd63b",
   "metadata": {},
   "outputs": [],
   "source": [
    "import numpy as np\n",
    "import pandas as pd\n",
    "from sklearn.model_selection import train_test_split\n",
    "from sklearn.neighbors import KNeighborsClassifier\n",
    "from sklearn.pipeline import make_pipeline\n",
    "from sklearn.preprocessing import RobustScaler\n",
    "from sklearn.metrics import accuracy_score, f1_score, recall_score, precision_score, auc\n",
    "from sklearn.preprocessing import LabelEncoder"
   ]
  },
  {
   "cell_type": "code",
   "execution_count": 38,
   "id": "e612bcb8-74ca-4880-be31-be900a27a279",
   "metadata": {},
   "outputs": [],
   "source": [
    "def get_train_test(complete_df):\n",
    "    #split, process and return  X_train, X_test, y_train, y_test\n",
    "    df_train, df_test = train_test_split(complete_df, test_size=0.3,stratify=complete_df['LABEL'])\n",
    "    \n",
    "    count = df_train['LABEL'].value_counts()\n",
    "    count[count.isin([min(count)])].index[0]\n",
    "    under_sampled = df_train[df_train['LABEL']==count[count.isin([max(count)])].index[0]].sample(min(count))\n",
    "    balanced_df = pd.concat([under_sampled, df_train[df_train['LABEL']==count[count.isin([min(count)])].index[0]]], axis=0)\n",
    "    X_train = balanced_df[balanced_df.columns[0:-1]]\n",
    "    X_test = df_test[balanced_df.columns[0:-1]]\n",
    "    y_label = balanced_df['LABEL']\n",
    "    y_label_test = df_test['LABEL']\n",
    "    le = LabelEncoder()\n",
    "    le.fit(y_label)\n",
    "    # le.classes_\n",
    "    y_train = le.transform(y_label)\n",
    "    y_test = le.transform(y_label_test)\n",
    "    return X_train, X_test, y_train, y_test\n"
   ]
  },
  {
   "cell_type": "code",
   "execution_count": 63,
   "id": "98649427-7b34-401b-96ad-b43ee6fdec54",
   "metadata": {},
   "outputs": [
    {
     "data": {
      "text/plain": [
       "array([0, 0, 0, ..., 0, 0, 0])"
      ]
     },
     "execution_count": 63,
     "metadata": {},
     "output_type": "execute_result"
    }
   ],
   "source": [
    "complete_df= pd.read_csv('Data/New_features.csv')\n",
    "elise_df = pd.read_csv('Data/additional_data_elise.csv')\n",
    "youss_df = pd.read_csv('Data/Extra_features.csv')\n",
    "elise_df = elise_df[elise_df.columns[1:]]\n",
    "elise_df['LABEL'] = 'REAL'\n",
    "andrea_features = pd.read_csv('Data/Andrea_features.csv')\n",
    "full_df = pd.concat([complete_df,elise_df,youss_df])\n",
    "X_train, X_test, y_train, y_test = get_train_test(full_df)\n",
    "andrea_features.LABEL = andrea_features.LABEL.map({'n.wav' : 1, 'ouss_15min.w' : 0})\n",
    "X_train = pd.concat([X_train,andrea_features[andrea_features.columns[0:-1]]])\n",
    "y_train = pd.concat([pd.DataFrame(y_train),andrea_features[andrea_features.columns[-1]]])\n",
    "np.array(y_train[0].T)"
   ]
  },
  {
   "cell_type": "code",
   "execution_count": 64,
   "id": "49f792db-3b4d-409c-859e-67f570098bce",
   "metadata": {},
   "outputs": [],
   "source": [
    "\n",
    "# Average CV score on the training set was: 0.744065028547899\n",
    "exported_pipeline = make_pipeline(\n",
    "    RobustScaler(),\n",
    "    KNeighborsClassifier(n_neighbors=44, p=1, weights=\"uniform\")\n",
    ")\n",
    "\n",
    "exported_pipeline.fit(X_train, np.array(y_train[0].T))\n",
    "results = exported_pipeline.predict(X_test)"
   ]
  },
  {
   "cell_type": "code",
   "execution_count": 65,
   "id": "19f4cbe5-38ba-46c8-a068-01bcc221f416",
   "metadata": {},
   "outputs": [
    {
     "data": {
      "text/plain": [
       "0.943687628702677"
      ]
     },
     "execution_count": 65,
     "metadata": {},
     "output_type": "execute_result"
    }
   ],
   "source": [
    "accuracy_score(y_test,results)"
   ]
  },
  {
   "cell_type": "code",
   "execution_count": 69,
   "id": "1f422747-59ae-4026-97e5-9d4de3862e03",
   "metadata": {},
   "outputs": [
    {
     "data": {
      "text/plain": [
       "0.9314893617021277"
      ]
     },
     "execution_count": 69,
     "metadata": {},
     "output_type": "execute_result"
    }
   ],
   "source": [
    "precision_score(y_test,results)"
   ]
  },
  {
   "cell_type": "code",
   "execution_count": 70,
   "id": "44a964d1-be59-47a9-ae2c-95c6671ade08",
   "metadata": {},
   "outputs": [],
   "source": [
    "def test_model(svm_XGB_best2):\n",
    "    #test model with our tests\n",
    "    \n",
    "    #read tests\n",
    "    new_test_taylor_r = pd.read_csv('Data/extracted_segment_10_extracted_segment_Taylor Swift Talks Record-Breaking Midnights Album, Music Video Cameos and Easter Eggs.csv')\n",
    "    new_test_bidenf = pd.read_csv('Data/audio_features_biden_AI.csv')\n",
    "    new_test_bidenr = pd.read_csv('Data/audio_features_biden.csv')\n",
    "    new_test_el = pd.read_csv('Data/Elise.csv')\n",
    "    new_test_yr1 = pd.read_csv('Data/Youssef.csv')\n",
    "    new_test_yr2 = pd.read_csv('Data/Youssef_2.csv')\n",
    "    new_test_yf1 = pd.read_csv('Data/Youssef_Eric Cartman.csv')\n",
    "    new_test_yf2 = pd.read_csv('Data/Youssef_2_Female.csv')\n",
    "    new_test_yf3  = pd.read_csv('Data/Youssef_2_Male Reggaeton.csv')\n",
    "    new_test_MF_f  = pd.read_csv('Data/Morgan Freeman_fake.csv')\n",
    "    new_test_MF_r  = pd.read_csv('Data/Morgan Freeman_real.csv')\n",
    "    new_test_And_r = pd.read_csv('Data/Andrea.csv')\n",
    "    new_test_And_f = pd.read_csv('Data/Andrea_to_Youss.csv')\n",
    "    fake_yous_n1 = pd.read_csv('Data/Youssef converted.csv')\n",
    "    fake_yous_and2 = pd.read_csv('Data/Matt_Abrahams_to_Youss_f.csv')\n",
    "    fake_yous_n2 = pd.read_csv('Data/Youssef_converted_model_1.csv')\n",
    "    fake_yous_n3 = pd.read_csv('Data/Youssef_converted_model_2_crepe_v2.csv')\n",
    "    fake_yous_n4 = pd.read_csv('Data/Youssef_converted_model_2_crepe.csv')\n",
    "    fake_yous_and3 = pd.read_csv('Data/andie_to_youss2.csv')\n",
    "    real_and2 = pd.read_csv('Data/andie_cats.csv')\n",
    "\n",
    "    \n",
    "    #make y_true\n",
    "    y_real = np.ones((1000,))\n",
    "    y_fake = np.zeros((1000,))\n",
    "    \n",
    "    #predict and get accuray score\n",
    "    pred = svm_XGB_best2.predict(new_test_taylor_r)\n",
    "    taylor_r = accuracy_score(y_real[:len(pred)],pred)\n",
    "    print('Real Taylor : ' , taylor_r)\n",
    "    \n",
    "    pred = svm_XGB_best2.predict(new_test_bidenf[new_test_bidenf.columns[0:-2]])\n",
    "    bidenf = accuracy_score(y_fake[:len(pred)],pred)\n",
    "    print('Fake Biden : ' , bidenf)\n",
    "\n",
    "    pred = svm_XGB_best2.predict(new_test_bidenr[new_test_bidenf.columns[0:-2]])\n",
    "    bidenr=accuracy_score(y_real[:len(pred)],pred)\n",
    "    print('Real Biden : ' , bidenr)\n",
    "\n",
    "    pred = svm_XGB_best2.predict(new_test_el)\n",
    "    eliser=accuracy_score(y_real[:len(pred)],pred)\n",
    "    print('Real Elise : ' , eliser)\n",
    "\n",
    "    pred = svm_XGB_best2.predict(new_test_yr1)\n",
    "    youssr1 = accuracy_score(y_real[:len(pred)],pred)\n",
    "    print('Real Youss_1 : ' , youssr1)\n",
    "\n",
    "    pred = svm_XGB_best2.predict(new_test_yr2)\n",
    "    youssr2 = accuracy_score(y_real[:len(pred)],pred)\n",
    "    print('Real Youss_2 : ' , youssr2)\n",
    "\n",
    "    pred = svm_XGB_best2.predict(new_test_yf1)\n",
    "    youssf1 = accuracy_score(y_fake[:len(pred)],pred)\n",
    "    print('Fake Youss_1 : ' , youssf1)\n",
    "\n",
    "    pred = svm_XGB_best2.predict(new_test_yf2)\n",
    "    youssf2 = accuracy_score(y_fake[:len(pred)],pred)\n",
    "    print('Fake Youss_2 : ' , youssf2)\n",
    "\n",
    "    pred = svm_XGB_best2.predict(new_test_yf3)\n",
    "    youssf3 = accuracy_score(y_fake[:len(pred)],pred)\n",
    "    print('Fake Youss_3 : ' , youssf3)\n",
    "\n",
    "    pred = svm_XGB_best2.predict(new_test_MF_f)\n",
    "    morganf = accuracy_score(y_fake[:len(pred)],pred)\n",
    "    print('Fake Morgan : ' , morganf)\n",
    "\n",
    "    pred = svm_XGB_best2.predict(new_test_MF_r)\n",
    "    morganr = accuracy_score(y_real[:len(pred)],pred)\n",
    "    print('Real Morgan : ' , morganr)\n",
    "\n",
    "    pred = svm_XGB_best2.predict(new_test_And_f)\n",
    "    andf = accuracy_score(y_fake[:len(pred)],pred)\n",
    "    print('Fake Andrea : ' , andf)\n",
    "\n",
    "    pred = svm_XGB_best2.predict(new_test_And_r)\n",
    "    andr = accuracy_score(y_real[:len(pred)],pred)\n",
    "    print('Real Andrea : ' , andr)\n",
    "\n",
    "    pred = svm_XGB_best2.predict(fake_yous_and2)\n",
    "    f_youss_and = accuracy_score(y_fake[:len(pred)],pred)\n",
    "    print('Fake youss_and : ' , f_youss_and)\n",
    "\n",
    "    pred = svm_XGB_best2.predict(fake_yous_n1)\n",
    "    f_youss_n1 = accuracy_score(y_fake[:len(pred)],pred)\n",
    "    print('Fake Youss_n1 : ' , f_youss_n1)\n",
    "\n",
    "    pred = svm_XGB_best2.predict(fake_yous_n2)\n",
    "    f_youss_n2 = accuracy_score(y_fake[:len(pred)],pred)\n",
    "    print('Fake Youss_n2 : ' , f_youss_n2)\n",
    "\n",
    "    pred = svm_XGB_best2.predict(fake_yous_n3)\n",
    "    f_youss_n3 = accuracy_score(y_fake[:len(pred)],pred)\n",
    "    print('Fake Youss_n3 : ' , f_youss_n3)\n",
    "\n",
    "    pred = svm_XGB_best2.predict(fake_yous_n4)\n",
    "    f_youss_n4 = accuracy_score(y_fake[:len(pred)],pred)\n",
    "    print('Fake Youss_n4 : ' , f_youss_n4)\n",
    "\n",
    "    pred = svm_XGB_best2.predict(fake_yous_and3)\n",
    "    fake_yous_and3 = accuracy_score(y_fake[:len(pred)],pred)\n",
    "    print('Fake Youss_and3 : ' , fake_yous_and3)\n",
    "\n",
    "    pred = svm_XGB_best2.predict(real_and2)\n",
    "    real_and2 = accuracy_score(y_real[:len(pred)],pred)\n",
    "    print('Real_and2 : ' , real_and2)\n",
    "    \n",
    "    \n",
    "    "
   ]
  },
  {
   "cell_type": "code",
   "execution_count": 71,
   "id": "502fd862-a0e7-46e0-8e77-95cd25ef7633",
   "metadata": {},
   "outputs": [
    {
     "name": "stdout",
     "output_type": "stream",
     "text": [
      "Real Taylor :  0.4\n",
      "Fake Biden :  0.8\n",
      "Real Biden :  0.9222222222222223\n",
      "Real Elise :  0.043478260869565216\n",
      "Real Youss_1 :  0.25\n",
      "Real Youss_2 :  0.9166666666666666\n",
      "Fake Youss_1 :  0.5\n",
      "Fake Youss_2 :  0.6666666666666666\n",
      "Fake Youss_3 :  0.08333333333333333\n",
      "Fake Morgan :  0.5873015873015873\n",
      "Real Morgan :  0.7241379310344828\n",
      "Fake Andrea :  1.0\n",
      "Real Andrea :  0.9230769230769231\n",
      "Fake youss_and :  0.9829787234042553\n",
      "Fake Youss_n1 :  0.9322033898305084\n",
      "Fake Youss_n2 :  0.4745762711864407\n",
      "Fake Youss_n3 :  0.6779661016949152\n",
      "Fake Youss_n4 :  0.6101694915254238\n",
      "Fake Youss_and3 :  1.0\n",
      "Real_and2 :  0.8571428571428571\n"
     ]
    }
   ],
   "source": [
    "test_model(exported_pipeline)"
   ]
  },
  {
   "cell_type": "code",
   "execution_count": null,
   "id": "49628d0c-08b8-4cfa-9c0b-910e56419293",
   "metadata": {},
   "outputs": [],
   "source": []
  },
  {
   "cell_type": "code",
   "execution_count": null,
   "id": "9f956be7-d6f3-41fa-b4e0-714dec4476a3",
   "metadata": {},
   "outputs": [],
   "source": []
  }
 ],
 "metadata": {
  "kernelspec": {
   "display_name": "Python 3 (ipykernel)",
   "language": "python",
   "name": "python3"
  },
  "language_info": {
   "codemirror_mode": {
    "name": "ipython",
    "version": 3
   },
   "file_extension": ".py",
   "mimetype": "text/x-python",
   "name": "python",
   "nbconvert_exporter": "python",
   "pygments_lexer": "ipython3",
   "version": "3.10.6"
  }
 },
 "nbformat": 4,
 "nbformat_minor": 5
}

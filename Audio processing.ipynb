{
 "cells": [
  {
   "cell_type": "code",
   "execution_count": 1,
   "id": "f844c12e",
   "metadata": {},
   "outputs": [],
   "source": [
    "import librosa\n",
    "import matplotlib.pyplot as plt\n",
    "from IPython.display import Audio\n",
    "import pandas as pd\n",
    "import numpy as np\n",
    "import os\n",
    "import soundfile as sf"
   ]
  },
  {
   "cell_type": "markdown",
   "id": "a827e521",
   "metadata": {},
   "source": [
    "### 1 - Features extraction"
   ]
  },
  {
   "cell_type": "code",
   "execution_count": 2,
   "id": "856de4a2",
   "metadata": {},
   "outputs": [],
   "source": [
    "#get all features out of given file\n",
    "def get_features(file_path, file_name):\n",
    "    y, sr = librosa.load(file_path)\n",
    "    iter_ = int(y.shape[0]/sr)\n",
    "    features = []\n",
    "    for i in range(iter_):\n",
    "        y_seg = y[i*sr:(sr*i+sr)]\n",
    "        chroma_stft = np.mean(librosa.feature.chroma_stft(y=y_seg, sr=sr))\n",
    "        rms = np.mean(librosa.feature.rms(y=y_seg))\n",
    "        spec_cent = np.mean(librosa.feature.spectral_centroid(y=y_seg, sr=sr))\n",
    "        spec_bw = np.mean(librosa.feature.spectral_bandwidth(y=y_seg, sr=sr))\n",
    "        rolloff = np.mean(librosa.feature.spectral_rolloff(y=y_seg, sr=sr))\n",
    "        zcr = np.mean(librosa.feature.zero_crossing_rate(y_seg))\n",
    "        mfcc = np.mean(librosa.feature.mfcc(y=y_seg, sr=sr, n_mfcc=20),axis=1)\n",
    "        features.append([chroma_stft,rms,spec_cent,spec_bw,rolloff,zcr,*mfcc]) # starred expressions for mfcc to get 20 columns instead of 20 row\n",
    "        # b = np.concatenate((b,a),axis=1) # ajout filename apres?\n",
    "    return features"
   ]
  },
  {
   "cell_type": "code",
   "execution_count": 5,
   "id": "0c6e3e42",
   "metadata": {},
   "outputs": [],
   "source": [
    "#listing the directories for all the real audios to process\n",
    "audio_dir='Data/AUDIO'\n",
    "label = 'REAL'\n",
    "files = os.listdir(os.path.join(audio_dir,label))\n",
    "for file in files:\n",
    "    print(os.path.join(audio_dir,label,file))\n"
   ]
  },
  {
   "cell_type": "code",
   "execution_count": 8,
   "id": "c6d9d769",
   "metadata": {},
   "outputs": [],
   "source": [
    "#make dataframe with all the features\n",
    "def make_features_df(audio_dir):\n",
    "    labels = ['REAL','FAKE']\n",
    "    feature_list = []\n",
    "    for label in labels:\n",
    "        files = os.listdir(os.path.join(audio_dir, label))\n",
    "        for file in files:\n",
    "            file_features=get_features(os.path.join(audio_dir,label,file),file)\n",
    "            for segment_features in file_features:\n",
    "                    feature_list.append(segment_features + [label])\n",
    "\n",
    "    features_df = pd.DataFrame(feature_list,columns = ['chroma_stft', 'rms', 'spectral_centroid', 'spectral_bandwidth',\n",
    "       'rolloff', 'zero_crossing_rate', 'mfcc1', 'mfcc2', 'mfcc3', 'mfcc4',\n",
    "       'mfcc5', 'mfcc6', 'mfcc7', 'mfcc8', 'mfcc9', 'mfcc10', 'mfcc11',\n",
    "       'mfcc12', 'mfcc13', 'mfcc14', 'mfcc15', 'mfcc16', 'mfcc17', 'mfcc18',\n",
    "       'mfcc19', 'mfcc20', 'LABEL'])\n",
    "    return features_df\n"
   ]
  },
  {
   "cell_type": "code",
   "execution_count": 11,
   "id": "772f6aa1",
   "metadata": {},
   "outputs": [],
   "source": [
    "complete_df = make_features_df(audio_dir)\n",
    "complete_df.to_csv('data/New_features.csv',index = False)"
   ]
  },
  {
   "cell_type": "code",
   "execution_count": null,
   "id": "62fca3d9",
   "metadata": {},
   "outputs": [],
   "source": []
  }
 ],
 "metadata": {
  "kernelspec": {
   "display_name": "Python 3 (ipykernel)",
   "language": "python",
   "name": "python3"
  },
  "language_info": {
   "codemirror_mode": {
    "name": "ipython",
    "version": 3
   },
   "file_extension": ".py",
   "mimetype": "text/x-python",
   "name": "python",
   "nbconvert_exporter": "python",
   "pygments_lexer": "ipython3",
   "version": "3.10.6"
  },
  "toc": {
   "base_numbering": 1,
   "nav_menu": {},
   "number_sections": true,
   "sideBar": true,
   "skip_h1_title": false,
   "title_cell": "Table of Contents",
   "title_sidebar": "Contents",
   "toc_cell": false,
   "toc_position": {},
   "toc_section_display": true,
   "toc_window_display": false
  }
 },
 "nbformat": 4,
 "nbformat_minor": 5
}

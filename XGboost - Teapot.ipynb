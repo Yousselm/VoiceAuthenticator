{
 "cells": [
  {
   "cell_type": "code",
   "execution_count": 97,
   "id": "9ee5ddc3-76d2-4c4b-8dae-ec3ca678f689",
   "metadata": {},
   "outputs": [
    {
     "name": "stdout",
     "output_type": "stream",
     "text": [
      "Requirement already satisfied: deap in /Users/youssefelmaaoua/.pyenv/versions/3.10.6/envs/Deep_fake_voice_recognition/lib/python3.10/site-packages (1.4.1)\n",
      "Requirement already satisfied: update_checker in /Users/youssefelmaaoua/.pyenv/versions/3.10.6/envs/Deep_fake_voice_recognition/lib/python3.10/site-packages (0.18.0)\n",
      "Requirement already satisfied: tqdm in /Users/youssefelmaaoua/.pyenv/versions/3.10.6/envs/Deep_fake_voice_recognition/lib/python3.10/site-packages (4.66.1)\n",
      "Requirement already satisfied: stopit in /Users/youssefelmaaoua/.pyenv/versions/3.10.6/envs/Deep_fake_voice_recognition/lib/python3.10/site-packages (1.1.2)\n",
      "Requirement already satisfied: xgboost in /Users/youssefelmaaoua/.pyenv/versions/3.10.6/envs/Deep_fake_voice_recognition/lib/python3.10/site-packages (2.0.2)\n",
      "Requirement already satisfied: numpy in /Users/youssefelmaaoua/.pyenv/versions/3.10.6/envs/Deep_fake_voice_recognition/lib/python3.10/site-packages (from deap) (1.26.2)\n",
      "Requirement already satisfied: requests>=2.3.0 in /Users/youssefelmaaoua/.pyenv/versions/3.10.6/envs/Deep_fake_voice_recognition/lib/python3.10/site-packages (from update_checker) (2.31.0)\n",
      "Requirement already satisfied: scipy in /Users/youssefelmaaoua/.pyenv/versions/3.10.6/envs/Deep_fake_voice_recognition/lib/python3.10/site-packages (from xgboost) (1.11.4)\n",
      "Requirement already satisfied: charset-normalizer<4,>=2 in /Users/youssefelmaaoua/.pyenv/versions/3.10.6/envs/Deep_fake_voice_recognition/lib/python3.10/site-packages (from requests>=2.3.0->update_checker) (3.3.2)\n",
      "Requirement already satisfied: idna<4,>=2.5 in /Users/youssefelmaaoua/.pyenv/versions/3.10.6/envs/Deep_fake_voice_recognition/lib/python3.10/site-packages (from requests>=2.3.0->update_checker) (3.6)\n",
      "Requirement already satisfied: urllib3<3,>=1.21.1 in /Users/youssefelmaaoua/.pyenv/versions/3.10.6/envs/Deep_fake_voice_recognition/lib/python3.10/site-packages (from requests>=2.3.0->update_checker) (2.1.0)\n",
      "Requirement already satisfied: certifi>=2017.4.17 in /Users/youssefelmaaoua/.pyenv/versions/3.10.6/envs/Deep_fake_voice_recognition/lib/python3.10/site-packages (from requests>=2.3.0->update_checker) (2023.11.17)\n",
      "Note: you may need to restart the kernel to use updated packages.\n"
     ]
    }
   ],
   "source": [
    "pip install deap update_checker tqdm stopit xgboost"
   ]
  },
  {
   "cell_type": "code",
   "execution_count": 98,
   "id": "47cdd893-d7fe-4796-88dd-28629611132f",
   "metadata": {},
   "outputs": [
    {
     "name": "stdout",
     "output_type": "stream",
     "text": [
      "Requirement already satisfied: tpot in /Users/youssefelmaaoua/.pyenv/versions/3.10.6/envs/Deep_fake_voice_recognition/lib/python3.10/site-packages (0.12.1)\n",
      "Requirement already satisfied: numpy>=1.16.3 in /Users/youssefelmaaoua/.pyenv/versions/3.10.6/envs/Deep_fake_voice_recognition/lib/python3.10/site-packages (from tpot) (1.26.2)\n",
      "Requirement already satisfied: scipy>=1.3.1 in /Users/youssefelmaaoua/.pyenv/versions/3.10.6/envs/Deep_fake_voice_recognition/lib/python3.10/site-packages (from tpot) (1.11.4)\n",
      "Requirement already satisfied: scikit-learn>=0.22.0 in /Users/youssefelmaaoua/.pyenv/versions/3.10.6/envs/Deep_fake_voice_recognition/lib/python3.10/site-packages (from tpot) (1.3.2)\n",
      "Requirement already satisfied: deap>=1.2 in /Users/youssefelmaaoua/.pyenv/versions/3.10.6/envs/Deep_fake_voice_recognition/lib/python3.10/site-packages (from tpot) (1.4.1)\n",
      "Requirement already satisfied: update-checker>=0.16 in /Users/youssefelmaaoua/.pyenv/versions/3.10.6/envs/Deep_fake_voice_recognition/lib/python3.10/site-packages (from tpot) (0.18.0)\n",
      "Requirement already satisfied: tqdm>=4.36.1 in /Users/youssefelmaaoua/.pyenv/versions/3.10.6/envs/Deep_fake_voice_recognition/lib/python3.10/site-packages (from tpot) (4.66.1)\n",
      "Requirement already satisfied: stopit>=1.1.1 in /Users/youssefelmaaoua/.pyenv/versions/3.10.6/envs/Deep_fake_voice_recognition/lib/python3.10/site-packages (from tpot) (1.1.2)\n",
      "Requirement already satisfied: pandas>=0.24.2 in /Users/youssefelmaaoua/.pyenv/versions/3.10.6/envs/Deep_fake_voice_recognition/lib/python3.10/site-packages (from tpot) (2.1.3)\n",
      "Requirement already satisfied: joblib>=0.13.2 in /Users/youssefelmaaoua/.pyenv/versions/3.10.6/envs/Deep_fake_voice_recognition/lib/python3.10/site-packages (from tpot) (1.3.2)\n",
      "Requirement already satisfied: xgboost>=1.1.0 in /Users/youssefelmaaoua/.pyenv/versions/3.10.6/envs/Deep_fake_voice_recognition/lib/python3.10/site-packages (from tpot) (2.0.2)\n",
      "Requirement already satisfied: python-dateutil>=2.8.2 in /Users/youssefelmaaoua/.pyenv/versions/3.10.6/envs/Deep_fake_voice_recognition/lib/python3.10/site-packages (from pandas>=0.24.2->tpot) (2.8.2)\n",
      "Requirement already satisfied: pytz>=2020.1 in /Users/youssefelmaaoua/.pyenv/versions/3.10.6/envs/Deep_fake_voice_recognition/lib/python3.10/site-packages (from pandas>=0.24.2->tpot) (2023.3.post1)\n",
      "Requirement already satisfied: tzdata>=2022.1 in /Users/youssefelmaaoua/.pyenv/versions/3.10.6/envs/Deep_fake_voice_recognition/lib/python3.10/site-packages (from pandas>=0.24.2->tpot) (2023.3)\n",
      "Requirement already satisfied: threadpoolctl>=2.0.0 in /Users/youssefelmaaoua/.pyenv/versions/3.10.6/envs/Deep_fake_voice_recognition/lib/python3.10/site-packages (from scikit-learn>=0.22.0->tpot) (3.2.0)\n",
      "Requirement already satisfied: requests>=2.3.0 in /Users/youssefelmaaoua/.pyenv/versions/3.10.6/envs/Deep_fake_voice_recognition/lib/python3.10/site-packages (from update-checker>=0.16->tpot) (2.31.0)\n",
      "Requirement already satisfied: six>=1.5 in /Users/youssefelmaaoua/.pyenv/versions/3.10.6/envs/Deep_fake_voice_recognition/lib/python3.10/site-packages (from python-dateutil>=2.8.2->pandas>=0.24.2->tpot) (1.16.0)\n",
      "Requirement already satisfied: charset-normalizer<4,>=2 in /Users/youssefelmaaoua/.pyenv/versions/3.10.6/envs/Deep_fake_voice_recognition/lib/python3.10/site-packages (from requests>=2.3.0->update-checker>=0.16->tpot) (3.3.2)\n",
      "Requirement already satisfied: idna<4,>=2.5 in /Users/youssefelmaaoua/.pyenv/versions/3.10.6/envs/Deep_fake_voice_recognition/lib/python3.10/site-packages (from requests>=2.3.0->update-checker>=0.16->tpot) (3.6)\n",
      "Requirement already satisfied: urllib3<3,>=1.21.1 in /Users/youssefelmaaoua/.pyenv/versions/3.10.6/envs/Deep_fake_voice_recognition/lib/python3.10/site-packages (from requests>=2.3.0->update-checker>=0.16->tpot) (2.1.0)\n",
      "Requirement already satisfied: certifi>=2017.4.17 in /Users/youssefelmaaoua/.pyenv/versions/3.10.6/envs/Deep_fake_voice_recognition/lib/python3.10/site-packages (from requests>=2.3.0->update-checker>=0.16->tpot) (2023.11.17)\n"
     ]
    }
   ],
   "source": [
    "! pip install tpot"
   ]
  },
  {
   "cell_type": "code",
   "execution_count": 99,
   "id": "0e279887-5e67-4812-b721-0dbb967c8ef1",
   "metadata": {},
   "outputs": [],
   "source": [
    "from tpot import TPOTClassifier\n",
    "import joblib"
   ]
  },
  {
   "cell_type": "code",
   "execution_count": 81,
   "id": "895399fc-bee3-4860-a974-f4699076bd04",
   "metadata": {
    "tags": []
   },
   "outputs": [],
   "source": [
    "import librosa\n",
    "import matplotlib.pyplot as plt\n",
    "from IPython.display import Audio\n",
    "import pandas as pd\n",
    "import numpy as np \n",
    "import os\n",
    "import soundfile as sf\n",
    "import os\n",
    "from scipy.stats import randint, uniform, loguniform\n",
    "from sklearn.model_selection import GridSearchCV\n",
    "from sklearn.model_selection import RandomizedSearchCV\n",
    "from xgboost import XGBClassifier\n",
    "from sklearn.model_selection import train_test_split, cross_val_score, GridSearchCV, RandomizedSearchCV\n",
    "from sklearn.preprocessing import LabelEncoder\n",
    "from sklearn.metrics import accuracy_score, f1_score, recall_score, precision_score, auc\n",
    "from sklearn.ensemble import RandomForestClassifier"
   ]
  },
  {
   "cell_type": "markdown",
   "id": "eca3cd0b-752a-44b2-9cb3-8a71529badd7",
   "metadata": {},
   "source": [
    "### 1- Definitions"
   ]
  },
  {
   "cell_type": "code",
   "execution_count": 82,
   "id": "be2a29b4-bf00-44a5-bf4c-bd2a345bed47",
   "metadata": {},
   "outputs": [],
   "source": [
    "def get_train_test(complete_df):\n",
    "    #split, process and return  X_train, X_test, y_train, y_test\n",
    "    df_train, df_test = train_test_split(complete_df, test_size=0.3,stratify=complete_df['LABEL'])\n",
    "    \n",
    "    count = df_train['LABEL'].value_counts()\n",
    "    count[count.isin([min(count)])].index[0]\n",
    "    under_sampled = df_train[df_train['LABEL']==count[count.isin([max(count)])].index[0]].sample(min(count))\n",
    "    balanced_df = pd.concat([under_sampled, df_train[df_train['LABEL']==count[count.isin([min(count)])].index[0]]], axis=0)\n",
    "    X_train = balanced_df[balanced_df.columns[0:-1]]\n",
    "    X_test = df_test[balanced_df.columns[0:-1]]\n",
    "    y_label = balanced_df['LABEL']\n",
    "    y_label_test = df_test['LABEL']\n",
    "    le = LabelEncoder()\n",
    "    le.fit(y_label)\n",
    "    # le.classes_\n",
    "    y_train = le.transform(y_label)\n",
    "    y_test = le.transform(y_label_test)\n",
    "    return X_train, X_test, y_train, y_test\n"
   ]
  },
  {
   "cell_type": "code",
   "execution_count": 83,
   "id": "e76c3674-6a0f-4a85-ac6e-834f83e1b30b",
   "metadata": {},
   "outputs": [],
   "source": [
    "def test_model(svm_XGB_best2):\n",
    "    #test model with our tests\n",
    "    \n",
    "    #read tests\n",
    "    new_test_taylor_r = pd.read_csv('Data/extracted_segment_10_extracted_segment_Taylor Swift Talks Record-Breaking Midnights Album, Music Video Cameos and Easter Eggs.csv')\n",
    "    new_test_bidenf = pd.read_csv('Data/audio_features_biden_AI.csv')\n",
    "    new_test_bidenr = pd.read_csv('Data/audio_features_biden.csv')\n",
    "    new_test_el = pd.read_csv('Data/Elise.csv')\n",
    "    new_test_yr1 = pd.read_csv('Data/Youssef.csv')\n",
    "    new_test_yr2 = pd.read_csv('Data/Youssef_2.csv')\n",
    "    new_test_yf1 = pd.read_csv('Data/Youssef_Eric Cartman.csv')\n",
    "    new_test_yf2 = pd.read_csv('Data/Youssef_2_Female.csv')\n",
    "    new_test_yf3  = pd.read_csv('Data/Youssef_2_Male Reggaeton.csv')\n",
    "    new_test_MF_f  = pd.read_csv('Data/Morgan Freeman_fake.csv')\n",
    "    new_test_MF_r  = pd.read_csv('Data/Morgan Freeman_real.csv')\n",
    "    new_test_And_r = pd.read_csv('Data/Andrea.csv')\n",
    "    new_test_And_f = pd.read_csv('Data/Andrea_to_Youss.csv')\n",
    "    \n",
    "    #make y_true\n",
    "    y_real = np.ones((1000,))\n",
    "    y_fake = np.zeros((1000,))\n",
    "    \n",
    "    #predict and get accuray score\n",
    "    pred = svm_XGB_best2.predict(new_test_taylor_r)\n",
    "    taylor_r = accuracy_score(y_real[:len(pred)],pred)\n",
    "    print('Real Taylor : ' , taylor_r)\n",
    "    \n",
    "    pred = svm_XGB_best2.predict(new_test_bidenf[new_test_bidenf.columns[0:-2]])\n",
    "    bidenf = accuracy_score(y_fake[:len(pred)],pred)\n",
    "    print('Fake Biden : ' , bidenf)\n",
    "\n",
    "    pred = svm_XGB_best2.predict(new_test_bidenr[new_test_bidenf.columns[0:-2]])\n",
    "    bidenr=accuracy_score(y_real[:len(pred)],pred)\n",
    "    print('Real Biden : ' , bidenr)\n",
    "\n",
    "    pred = svm_XGB_best2.predict(new_test_el)\n",
    "    eliser=accuracy_score(y_real[:len(pred)],pred)\n",
    "    print('Real Elise : ' , eliser)\n",
    "\n",
    "    pred = svm_XGB_best2.predict(new_test_yr1)\n",
    "    youssr1 = accuracy_score(y_real[:len(pred)],pred)\n",
    "    print('Real Youss_1 : ' , youssr1)\n",
    "\n",
    "    pred = svm_XGB_best2.predict(new_test_yr2)\n",
    "    youssr2 = accuracy_score(y_real[:len(pred)],pred)\n",
    "    print('Real Youss_2 : ' , youssr2)\n",
    "\n",
    "    pred = svm_XGB_best2.predict(new_test_yf1)\n",
    "    youssf1 = accuracy_score(y_fake[:len(pred)],pred)\n",
    "    print('Fake Youss_1 : ' , youssf1)\n",
    "\n",
    "    pred = svm_XGB_best2.predict(new_test_yf2)\n",
    "    youssf2 = accuracy_score(y_fake[:len(pred)],pred)\n",
    "    print('Fake Youss_2 : ' , youssf2)\n",
    "\n",
    "    pred = svm_XGB_best2.predict(new_test_yf3)\n",
    "    youssf3 = accuracy_score(y_fake[:len(pred)],pred)\n",
    "    print('Fake Youss_3 : ' , youssf3)\n",
    "\n",
    "    pred = svm_XGB_best2.predict(new_test_MF_f)\n",
    "    morganf = accuracy_score(y_fake[:len(pred)],pred)\n",
    "    print('Fake Morgan : ' , morganf)\n",
    "\n",
    "    pred = svm_XGB_best2.predict(new_test_MF_r)\n",
    "    morganr = accuracy_score(y_real[:len(pred)],pred)\n",
    "    print('Real Morgan : ' , morganr)\n",
    "\n",
    "    pred = svm_XGB_best2.predict(new_test_And_f)\n",
    "    andf = accuracy_score(y_fake[:len(pred)],pred)\n",
    "    print('Fake Andrea : ' , andf)\n",
    "\n",
    "    pred = svm_XGB_best2.predict(new_test_And_r)\n",
    "    andr = accuracy_score(y_real[:len(pred)],pred)\n",
    "    print('Real Andrea : ' , andr)\n",
    "\n",
    "    "
   ]
  },
  {
   "cell_type": "markdown",
   "id": "d5468d94-023e-41d8-8149-694738c68ab4",
   "metadata": {},
   "source": [
    "### 3- Estimators"
   ]
  },
  {
   "cell_type": "markdown",
   "id": "a9d89d43-8260-42b2-98a9-38f8aae3a7b7",
   "metadata": {},
   "source": [
    "#### XGBOOST"
   ]
  },
  {
   "cell_type": "markdown",
   "id": "c7f62092-c29f-4a3c-9f99-76e1e94ae17a",
   "metadata": {},
   "source": [
    "### Adding asvc LA 2019 features"
   ]
  },
  {
   "cell_type": "code",
   "execution_count": 3,
   "id": "169c0516-338f-4f84-b41e-c3df0872912d",
   "metadata": {},
   "outputs": [
    {
     "data": {
      "text/html": [
       "<div>\n",
       "<style scoped>\n",
       "    .dataframe tbody tr th:only-of-type {\n",
       "        vertical-align: middle;\n",
       "    }\n",
       "\n",
       "    .dataframe tbody tr th {\n",
       "        vertical-align: top;\n",
       "    }\n",
       "\n",
       "    .dataframe thead th {\n",
       "        text-align: right;\n",
       "    }\n",
       "</style>\n",
       "<table border=\"1\" class=\"dataframe\">\n",
       "  <thead>\n",
       "    <tr style=\"text-align: right;\">\n",
       "      <th></th>\n",
       "      <th>chroma_stft</th>\n",
       "      <th>rms</th>\n",
       "      <th>spectral_centroid</th>\n",
       "      <th>spectral_bandwidth</th>\n",
       "      <th>rolloff</th>\n",
       "      <th>zero_crossing_rate</th>\n",
       "      <th>mfcc1</th>\n",
       "      <th>mfcc2</th>\n",
       "      <th>mfcc3</th>\n",
       "      <th>mfcc4</th>\n",
       "      <th>...</th>\n",
       "      <th>mfcc12</th>\n",
       "      <th>mfcc13</th>\n",
       "      <th>mfcc14</th>\n",
       "      <th>mfcc15</th>\n",
       "      <th>mfcc16</th>\n",
       "      <th>mfcc17</th>\n",
       "      <th>mfcc18</th>\n",
       "      <th>mfcc19</th>\n",
       "      <th>mfcc20</th>\n",
       "      <th>LABEL</th>\n",
       "    </tr>\n",
       "  </thead>\n",
       "  <tbody>\n",
       "    <tr>\n",
       "      <th>0</th>\n",
       "      <td>0.581642</td>\n",
       "      <td>0.003070</td>\n",
       "      <td>2199.394712</td>\n",
       "      <td>1951.288198</td>\n",
       "      <td>4489.428156</td>\n",
       "      <td>0.101729</td>\n",
       "      <td>-465.42130</td>\n",
       "      <td>125.339874</td>\n",
       "      <td>-69.007560</td>\n",
       "      <td>70.611090</td>\n",
       "      <td>...</td>\n",
       "      <td>-8.866219</td>\n",
       "      <td>7.612215</td>\n",
       "      <td>-12.527738</td>\n",
       "      <td>9.243306</td>\n",
       "      <td>-17.393263</td>\n",
       "      <td>6.024668</td>\n",
       "      <td>-14.883923</td>\n",
       "      <td>-1.570087</td>\n",
       "      <td>-11.686265</td>\n",
       "      <td>LA_D_8848915</td>\n",
       "    </tr>\n",
       "    <tr>\n",
       "      <th>1</th>\n",
       "      <td>0.325574</td>\n",
       "      <td>0.093229</td>\n",
       "      <td>2345.454133</td>\n",
       "      <td>1599.777611</td>\n",
       "      <td>3984.376665</td>\n",
       "      <td>0.152854</td>\n",
       "      <td>-236.49667</td>\n",
       "      <td>100.673485</td>\n",
       "      <td>-32.507786</td>\n",
       "      <td>49.088180</td>\n",
       "      <td>...</td>\n",
       "      <td>-10.290752</td>\n",
       "      <td>-2.104480</td>\n",
       "      <td>-12.366513</td>\n",
       "      <td>-0.074342</td>\n",
       "      <td>-20.750038</td>\n",
       "      <td>-0.219439</td>\n",
       "      <td>-13.774378</td>\n",
       "      <td>-12.227905</td>\n",
       "      <td>-15.365830</td>\n",
       "      <td>LA_D_8848915</td>\n",
       "    </tr>\n",
       "    <tr>\n",
       "      <th>2</th>\n",
       "      <td>0.315612</td>\n",
       "      <td>0.107650</td>\n",
       "      <td>1792.799111</td>\n",
       "      <td>1426.987016</td>\n",
       "      <td>3165.870250</td>\n",
       "      <td>0.124190</td>\n",
       "      <td>-233.42374</td>\n",
       "      <td>128.119860</td>\n",
       "      <td>-33.989710</td>\n",
       "      <td>45.122196</td>\n",
       "      <td>...</td>\n",
       "      <td>-4.690394</td>\n",
       "      <td>-8.381293</td>\n",
       "      <td>-15.633381</td>\n",
       "      <td>-2.263502</td>\n",
       "      <td>-20.402868</td>\n",
       "      <td>-5.021841</td>\n",
       "      <td>-14.528839</td>\n",
       "      <td>-10.487343</td>\n",
       "      <td>-13.769796</td>\n",
       "      <td>LA_D_8848915</td>\n",
       "    </tr>\n",
       "    <tr>\n",
       "      <th>3</th>\n",
       "      <td>0.539373</td>\n",
       "      <td>0.001211</td>\n",
       "      <td>1397.669671</td>\n",
       "      <td>1798.662060</td>\n",
       "      <td>3206.245006</td>\n",
       "      <td>0.058805</td>\n",
       "      <td>-601.98300</td>\n",
       "      <td>157.632460</td>\n",
       "      <td>-29.607780</td>\n",
       "      <td>64.629550</td>\n",
       "      <td>...</td>\n",
       "      <td>-18.353567</td>\n",
       "      <td>-2.086941</td>\n",
       "      <td>-21.357689</td>\n",
       "      <td>1.418289</td>\n",
       "      <td>-19.528841</td>\n",
       "      <td>2.797719</td>\n",
       "      <td>-17.868378</td>\n",
       "      <td>-0.484152</td>\n",
       "      <td>-12.906013</td>\n",
       "      <td>LA_D_4477471</td>\n",
       "    </tr>\n",
       "    <tr>\n",
       "      <th>4</th>\n",
       "      <td>0.309486</td>\n",
       "      <td>0.177945</td>\n",
       "      <td>1369.867761</td>\n",
       "      <td>1431.153215</td>\n",
       "      <td>2583.005593</td>\n",
       "      <td>0.078857</td>\n",
       "      <td>-275.83110</td>\n",
       "      <td>104.976555</td>\n",
       "      <td>-20.991016</td>\n",
       "      <td>46.207660</td>\n",
       "      <td>...</td>\n",
       "      <td>-12.673950</td>\n",
       "      <td>-6.094771</td>\n",
       "      <td>-14.902205</td>\n",
       "      <td>0.231349</td>\n",
       "      <td>-26.601341</td>\n",
       "      <td>-16.148132</td>\n",
       "      <td>-9.064847</td>\n",
       "      <td>-9.427711</td>\n",
       "      <td>-17.687447</td>\n",
       "      <td>LA_D_4477471</td>\n",
       "    </tr>\n",
       "    <tr>\n",
       "      <th>...</th>\n",
       "      <td>...</td>\n",
       "      <td>...</td>\n",
       "      <td>...</td>\n",
       "      <td>...</td>\n",
       "      <td>...</td>\n",
       "      <td>...</td>\n",
       "      <td>...</td>\n",
       "      <td>...</td>\n",
       "      <td>...</td>\n",
       "      <td>...</td>\n",
       "      <td>...</td>\n",
       "      <td>...</td>\n",
       "      <td>...</td>\n",
       "      <td>...</td>\n",
       "      <td>...</td>\n",
       "      <td>...</td>\n",
       "      <td>...</td>\n",
       "      <td>...</td>\n",
       "      <td>...</td>\n",
       "      <td>...</td>\n",
       "      <td>...</td>\n",
       "    </tr>\n",
       "    <tr>\n",
       "      <th>338744</th>\n",
       "      <td>0.371957</td>\n",
       "      <td>0.108856</td>\n",
       "      <td>1874.572218</td>\n",
       "      <td>1644.345669</td>\n",
       "      <td>3483.484996</td>\n",
       "      <td>0.100042</td>\n",
       "      <td>-267.69348</td>\n",
       "      <td>112.351730</td>\n",
       "      <td>-38.577652</td>\n",
       "      <td>28.142616</td>\n",
       "      <td>...</td>\n",
       "      <td>-9.952971</td>\n",
       "      <td>-4.968857</td>\n",
       "      <td>-4.419859</td>\n",
       "      <td>-3.030780</td>\n",
       "      <td>-23.952742</td>\n",
       "      <td>2.336856</td>\n",
       "      <td>-18.854225</td>\n",
       "      <td>-8.214225</td>\n",
       "      <td>-4.492851</td>\n",
       "      <td>c/LA_T_51403</td>\n",
       "    </tr>\n",
       "    <tr>\n",
       "      <th>338745</th>\n",
       "      <td>0.334515</td>\n",
       "      <td>0.126682</td>\n",
       "      <td>1887.510015</td>\n",
       "      <td>1628.934264</td>\n",
       "      <td>3496.209162</td>\n",
       "      <td>0.117687</td>\n",
       "      <td>-200.80446</td>\n",
       "      <td>128.001220</td>\n",
       "      <td>-38.918960</td>\n",
       "      <td>32.557312</td>\n",
       "      <td>...</td>\n",
       "      <td>-18.347965</td>\n",
       "      <td>1.964419</td>\n",
       "      <td>-15.538897</td>\n",
       "      <td>-1.297084</td>\n",
       "      <td>-12.130425</td>\n",
       "      <td>-5.399279</td>\n",
       "      <td>-15.976752</td>\n",
       "      <td>-13.512214</td>\n",
       "      <td>-8.315792</td>\n",
       "      <td>c/LA_T_83730</td>\n",
       "    </tr>\n",
       "    <tr>\n",
       "      <th>338746</th>\n",
       "      <td>0.268613</td>\n",
       "      <td>0.169597</td>\n",
       "      <td>1588.532926</td>\n",
       "      <td>1506.019870</td>\n",
       "      <td>3034.958163</td>\n",
       "      <td>0.081332</td>\n",
       "      <td>-194.92460</td>\n",
       "      <td>117.109030</td>\n",
       "      <td>-29.384462</td>\n",
       "      <td>49.451450</td>\n",
       "      <td>...</td>\n",
       "      <td>-17.681974</td>\n",
       "      <td>0.498010</td>\n",
       "      <td>-7.854861</td>\n",
       "      <td>-2.573860</td>\n",
       "      <td>-16.794678</td>\n",
       "      <td>-10.481019</td>\n",
       "      <td>-14.802436</td>\n",
       "      <td>-13.050943</td>\n",
       "      <td>-10.861348</td>\n",
       "      <td>c/LA_T_83730</td>\n",
       "    </tr>\n",
       "    <tr>\n",
       "      <th>338747</th>\n",
       "      <td>0.410026</td>\n",
       "      <td>0.138760</td>\n",
       "      <td>1677.571697</td>\n",
       "      <td>1590.618139</td>\n",
       "      <td>3213.096480</td>\n",
       "      <td>0.094649</td>\n",
       "      <td>-205.35316</td>\n",
       "      <td>128.130100</td>\n",
       "      <td>-34.798000</td>\n",
       "      <td>44.976448</td>\n",
       "      <td>...</td>\n",
       "      <td>-14.185932</td>\n",
       "      <td>-1.863424</td>\n",
       "      <td>-9.754604</td>\n",
       "      <td>-3.552697</td>\n",
       "      <td>-16.958033</td>\n",
       "      <td>-6.803551</td>\n",
       "      <td>-13.341378</td>\n",
       "      <td>-4.011154</td>\n",
       "      <td>-12.574131</td>\n",
       "      <td>c/LA_T_96703</td>\n",
       "    </tr>\n",
       "    <tr>\n",
       "      <th>338748</th>\n",
       "      <td>0.407840</td>\n",
       "      <td>0.157918</td>\n",
       "      <td>1406.509973</td>\n",
       "      <td>1480.309642</td>\n",
       "      <td>2648.094593</td>\n",
       "      <td>0.084384</td>\n",
       "      <td>-181.38403</td>\n",
       "      <td>159.280640</td>\n",
       "      <td>-27.989044</td>\n",
       "      <td>26.875480</td>\n",
       "      <td>...</td>\n",
       "      <td>-12.376182</td>\n",
       "      <td>-1.288018</td>\n",
       "      <td>-10.729516</td>\n",
       "      <td>-2.694981</td>\n",
       "      <td>-19.514557</td>\n",
       "      <td>-4.470613</td>\n",
       "      <td>-14.349154</td>\n",
       "      <td>-11.267606</td>\n",
       "      <td>-13.271557</td>\n",
       "      <td>c/LA_T_96703</td>\n",
       "    </tr>\n",
       "  </tbody>\n",
       "</table>\n",
       "<p>338749 rows × 27 columns</p>\n",
       "</div>"
      ],
      "text/plain": [
       "        chroma_stft       rms  spectral_centroid  spectral_bandwidth  \\\n",
       "0          0.581642  0.003070        2199.394712         1951.288198   \n",
       "1          0.325574  0.093229        2345.454133         1599.777611   \n",
       "2          0.315612  0.107650        1792.799111         1426.987016   \n",
       "3          0.539373  0.001211        1397.669671         1798.662060   \n",
       "4          0.309486  0.177945        1369.867761         1431.153215   \n",
       "...             ...       ...                ...                 ...   \n",
       "338744     0.371957  0.108856        1874.572218         1644.345669   \n",
       "338745     0.334515  0.126682        1887.510015         1628.934264   \n",
       "338746     0.268613  0.169597        1588.532926         1506.019870   \n",
       "338747     0.410026  0.138760        1677.571697         1590.618139   \n",
       "338748     0.407840  0.157918        1406.509973         1480.309642   \n",
       "\n",
       "            rolloff  zero_crossing_rate      mfcc1       mfcc2      mfcc3  \\\n",
       "0       4489.428156            0.101729 -465.42130  125.339874 -69.007560   \n",
       "1       3984.376665            0.152854 -236.49667  100.673485 -32.507786   \n",
       "2       3165.870250            0.124190 -233.42374  128.119860 -33.989710   \n",
       "3       3206.245006            0.058805 -601.98300  157.632460 -29.607780   \n",
       "4       2583.005593            0.078857 -275.83110  104.976555 -20.991016   \n",
       "...             ...                 ...        ...         ...        ...   \n",
       "338744  3483.484996            0.100042 -267.69348  112.351730 -38.577652   \n",
       "338745  3496.209162            0.117687 -200.80446  128.001220 -38.918960   \n",
       "338746  3034.958163            0.081332 -194.92460  117.109030 -29.384462   \n",
       "338747  3213.096480            0.094649 -205.35316  128.130100 -34.798000   \n",
       "338748  2648.094593            0.084384 -181.38403  159.280640 -27.989044   \n",
       "\n",
       "            mfcc4  ...     mfcc12    mfcc13     mfcc14    mfcc15     mfcc16  \\\n",
       "0       70.611090  ...  -8.866219  7.612215 -12.527738  9.243306 -17.393263   \n",
       "1       49.088180  ... -10.290752 -2.104480 -12.366513 -0.074342 -20.750038   \n",
       "2       45.122196  ...  -4.690394 -8.381293 -15.633381 -2.263502 -20.402868   \n",
       "3       64.629550  ... -18.353567 -2.086941 -21.357689  1.418289 -19.528841   \n",
       "4       46.207660  ... -12.673950 -6.094771 -14.902205  0.231349 -26.601341   \n",
       "...           ...  ...        ...       ...        ...       ...        ...   \n",
       "338744  28.142616  ...  -9.952971 -4.968857  -4.419859 -3.030780 -23.952742   \n",
       "338745  32.557312  ... -18.347965  1.964419 -15.538897 -1.297084 -12.130425   \n",
       "338746  49.451450  ... -17.681974  0.498010  -7.854861 -2.573860 -16.794678   \n",
       "338747  44.976448  ... -14.185932 -1.863424  -9.754604 -3.552697 -16.958033   \n",
       "338748  26.875480  ... -12.376182 -1.288018 -10.729516 -2.694981 -19.514557   \n",
       "\n",
       "           mfcc17     mfcc18     mfcc19     mfcc20         LABEL  \n",
       "0        6.024668 -14.883923  -1.570087 -11.686265  LA_D_8848915  \n",
       "1       -0.219439 -13.774378 -12.227905 -15.365830  LA_D_8848915  \n",
       "2       -5.021841 -14.528839 -10.487343 -13.769796  LA_D_8848915  \n",
       "3        2.797719 -17.868378  -0.484152 -12.906013  LA_D_4477471  \n",
       "4      -16.148132  -9.064847  -9.427711 -17.687447  LA_D_4477471  \n",
       "...           ...        ...        ...        ...           ...  \n",
       "338744   2.336856 -18.854225  -8.214225  -4.492851  c/LA_T_51403  \n",
       "338745  -5.399279 -15.976752 -13.512214  -8.315792  c/LA_T_83730  \n",
       "338746 -10.481019 -14.802436 -13.050943 -10.861348  c/LA_T_83730  \n",
       "338747  -6.803551 -13.341378  -4.011154 -12.574131  c/LA_T_96703  \n",
       "338748  -4.470613 -14.349154 -11.267606 -13.271557  c/LA_T_96703  \n",
       "\n",
       "[338749 rows x 27 columns]"
      ]
     },
     "execution_count": 3,
     "metadata": {},
     "output_type": "execute_result"
    }
   ],
   "source": [
    "asvc_features = pd.read_csv('Data/asvc_features.csv')\n",
    "full_df = pd.read_csv('Data/full_df.csv')\n",
    "la_2029_bona = pd.read_csv('Data/la_2029_bona.csv')\n",
    "la_2029_spoof= pd.read_csv('Data/la_2029_spoof.csv')\n",
    "asvc_features\n"
   ]
  },
  {
   "cell_type": "code",
   "execution_count": 34,
   "id": "b6ac41da-9af0-4973-b52f-63f6882a0d64",
   "metadata": {
    "tags": []
   },
   "outputs": [
    {
     "data": {
      "text/plain": [
       "LABEL\n",
       "FAKE    26194\n",
       "REAL    15890\n",
       "Name: count, dtype: int64"
      ]
     },
     "execution_count": 34,
     "metadata": {},
     "output_type": "execute_result"
    }
   ],
   "source": [
    "full_df.LABEL.value_counts()"
   ]
  },
  {
   "cell_type": "code",
   "execution_count": 18,
   "id": "76c05cda-dd12-451a-aa34-933db00f99ad",
   "metadata": {
    "tags": []
   },
   "outputs": [
    {
     "data": {
      "text/html": [
       "<div>\n",
       "<style scoped>\n",
       "    .dataframe tbody tr th:only-of-type {\n",
       "        vertical-align: middle;\n",
       "    }\n",
       "\n",
       "    .dataframe tbody tr th {\n",
       "        vertical-align: top;\n",
       "    }\n",
       "\n",
       "    .dataframe thead th {\n",
       "        text-align: right;\n",
       "    }\n",
       "</style>\n",
       "<table border=\"1\" class=\"dataframe\">\n",
       "  <thead>\n",
       "    <tr style=\"text-align: right;\">\n",
       "      <th></th>\n",
       "      <th>name_1</th>\n",
       "      <th>name_2</th>\n",
       "      <th>label</th>\n",
       "    </tr>\n",
       "  </thead>\n",
       "  <tbody>\n",
       "    <tr>\n",
       "      <th>0</th>\n",
       "      <td>LA_0069</td>\n",
       "      <td>LA_D_1008730</td>\n",
       "      <td>spoof</td>\n",
       "    </tr>\n",
       "    <tr>\n",
       "      <th>1</th>\n",
       "      <td>LA_0069</td>\n",
       "      <td>LA_D_1034049</td>\n",
       "      <td>spoof</td>\n",
       "    </tr>\n",
       "    <tr>\n",
       "      <th>2</th>\n",
       "      <td>LA_0069</td>\n",
       "      <td>LA_D_1048723</td>\n",
       "      <td>spoof</td>\n",
       "    </tr>\n",
       "    <tr>\n",
       "      <th>3</th>\n",
       "      <td>LA_0069</td>\n",
       "      <td>LA_D_1067573</td>\n",
       "      <td>spoof</td>\n",
       "    </tr>\n",
       "    <tr>\n",
       "      <th>4</th>\n",
       "      <td>LA_0069</td>\n",
       "      <td>LA_D_1091909</td>\n",
       "      <td>spoof</td>\n",
       "    </tr>\n",
       "    <tr>\n",
       "      <th>...</th>\n",
       "      <td>...</td>\n",
       "      <td>...</td>\n",
       "      <td>...</td>\n",
       "    </tr>\n",
       "    <tr>\n",
       "      <th>108973</th>\n",
       "      <td>LA_0009</td>\n",
       "      <td>LA_E_3635712</td>\n",
       "      <td>spoof</td>\n",
       "    </tr>\n",
       "    <tr>\n",
       "      <th>108974</th>\n",
       "      <td>LA_0010</td>\n",
       "      <td>LA_E_4078898</td>\n",
       "      <td>spoof</td>\n",
       "    </tr>\n",
       "    <tr>\n",
       "      <th>108975</th>\n",
       "      <td>LA_0038</td>\n",
       "      <td>LA_E_5085671</td>\n",
       "      <td>spoof</td>\n",
       "    </tr>\n",
       "    <tr>\n",
       "      <th>108976</th>\n",
       "      <td>LA_0012</td>\n",
       "      <td>LA_E_4926022</td>\n",
       "      <td>spoof</td>\n",
       "    </tr>\n",
       "    <tr>\n",
       "      <th>108977</th>\n",
       "      <td>LA_0009</td>\n",
       "      <td>LA_E_4689563</td>\n",
       "      <td>spoof</td>\n",
       "    </tr>\n",
       "  </tbody>\n",
       "</table>\n",
       "<p>108978 rows × 3 columns</p>\n",
       "</div>"
      ],
      "text/plain": [
       "         name_1        name_2  label\n",
       "0       LA_0069  LA_D_1008730  spoof\n",
       "1       LA_0069  LA_D_1034049  spoof\n",
       "2       LA_0069  LA_D_1048723  spoof\n",
       "3       LA_0069  LA_D_1067573  spoof\n",
       "4       LA_0069  LA_D_1091909  spoof\n",
       "...         ...           ...    ...\n",
       "108973  LA_0009  LA_E_3635712  spoof\n",
       "108974  LA_0010  LA_E_4078898  spoof\n",
       "108975  LA_0038  LA_E_5085671  spoof\n",
       "108976  LA_0012  LA_E_4926022  spoof\n",
       "108977  LA_0009  LA_E_4689563  spoof\n",
       "\n",
       "[108978 rows x 3 columns]"
      ]
     },
     "execution_count": 18,
     "metadata": {},
     "output_type": "execute_result"
    }
   ],
   "source": [
    "la_2029_spoof"
   ]
  },
  {
   "cell_type": "code",
   "execution_count": 7,
   "id": "c2d84eb7-50d9-48eb-8f87-b36ebd5c5b7d",
   "metadata": {},
   "outputs": [
    {
     "name": "stderr",
     "output_type": "stream",
     "text": [
      "/var/tmp/ipykernel_3935/473903352.py:2: SettingWithCopyWarning: \n",
      "A value is trying to be set on a copy of a slice from a DataFrame\n",
      "\n",
      "See the caveats in the documentation: https://pandas.pydata.org/pandas-docs/stable/user_guide/indexing.html#returning-a-view-versus-a-copy\n",
      "  asvc_features.LABEL[asvc_features.LABEL.isin(la_2029_spoof.name_2)] = 'FAKE'\n",
      "/var/tmp/ipykernel_3935/473903352.py:3: SettingWithCopyWarning: \n",
      "A value is trying to be set on a copy of a slice from a DataFrame\n",
      "\n",
      "See the caveats in the documentation: https://pandas.pydata.org/pandas-docs/stable/user_guide/indexing.html#returning-a-view-versus-a-copy\n",
      "  asvc_features.LABEL[asvc_features.LABEL.isin(la_2029_bona.name_2)] = 'REAL'\n"
     ]
    }
   ],
   "source": [
    "#adding labels to asvc_features : \n",
    "asvc_features.LABEL[asvc_features.LABEL.isin(la_2029_spoof.name_2)] = 'FAKE'\n",
    "asvc_features.LABEL[asvc_features.LABEL.isin(la_2029_bona.name_2)] = 'REAL'\n",
    "asvc_fake = asvc_features[asvc_features.LABEL== 'FAKE']\n",
    "asvc_real = asvc_features[asvc_features.LABEL== 'REAL']\n",
    "\n",
    "transfer = pd.concat([asvc_fake,asvc_real])\n",
    "transfer.LABEL.value_counts()\n",
    "transfer.to_csv('Asvc_2019_features.csv',index = False)"
   ]
  },
  {
   "cell_type": "code",
   "execution_count": 42,
   "id": "7e0b9708-98f4-4b62-b969-24cd984a1b78",
   "metadata": {
    "tags": []
   },
   "outputs": [],
   "source": [
    "full_asvc = pd.concat([asvc_fake,asvc_real,full_df])\n",
    "full_asvc.to_csv('full_df_2013-12.csv',index = False)\n"
   ]
  },
  {
   "cell_type": "code",
   "execution_count": 6,
   "id": "f03ed7c7-5e30-47a4-938d-a55ba6ae69f7",
   "metadata": {},
   "outputs": [],
   "source": [
    "full_df = pd.read_csv('Data/full_df_2023-12-08.csv')"
   ]
  },
  {
   "cell_type": "code",
   "execution_count": 7,
   "id": "95ad718e-6611-4b74-aec8-8706a4ccd2a0",
   "metadata": {
    "tags": []
   },
   "outputs": [
    {
     "data": {
      "text/plain": [
       "LABEL\n",
       "1    140403\n",
       "0     25528\n",
       "Name: count, dtype: int64"
      ]
     },
     "execution_count": 7,
     "metadata": {},
     "output_type": "execute_result"
    }
   ],
   "source": [
    "full_df.LABEL.value_counts()"
   ]
  },
  {
   "cell_type": "code",
   "execution_count": 18,
   "id": "0d2888f8-53f9-4230-afaf-74f783975a9f",
   "metadata": {
    "tags": []
   },
   "outputs": [
    {
     "data": {
      "text/plain": [
       "0    17869\n",
       "1    17869\n",
       "Name: count, dtype: int64"
      ]
     },
     "execution_count": 18,
     "metadata": {},
     "output_type": "execute_result"
    }
   ],
   "source": [
    "X_train, X_test, y_train, y_test = get_train_test(full_df)\n"
   ]
  },
  {
   "cell_type": "code",
   "execution_count": 13,
   "id": "3533b2a0-f1d7-4a35-b7a2-1bf0d5611b3a",
   "metadata": {},
   "outputs": [
    {
     "data": {
      "text/html": [
       "<style>#sk-container-id-1 {color: black;}#sk-container-id-1 pre{padding: 0;}#sk-container-id-1 div.sk-toggleable {background-color: white;}#sk-container-id-1 label.sk-toggleable__label {cursor: pointer;display: block;width: 100%;margin-bottom: 0;padding: 0.3em;box-sizing: border-box;text-align: center;}#sk-container-id-1 label.sk-toggleable__label-arrow:before {content: \"▸\";float: left;margin-right: 0.25em;color: #696969;}#sk-container-id-1 label.sk-toggleable__label-arrow:hover:before {color: black;}#sk-container-id-1 div.sk-estimator:hover label.sk-toggleable__label-arrow:before {color: black;}#sk-container-id-1 div.sk-toggleable__content {max-height: 0;max-width: 0;overflow: hidden;text-align: left;background-color: #f0f8ff;}#sk-container-id-1 div.sk-toggleable__content pre {margin: 0.2em;color: black;border-radius: 0.25em;background-color: #f0f8ff;}#sk-container-id-1 input.sk-toggleable__control:checked~div.sk-toggleable__content {max-height: 200px;max-width: 100%;overflow: auto;}#sk-container-id-1 input.sk-toggleable__control:checked~label.sk-toggleable__label-arrow:before {content: \"▾\";}#sk-container-id-1 div.sk-estimator input.sk-toggleable__control:checked~label.sk-toggleable__label {background-color: #d4ebff;}#sk-container-id-1 div.sk-label input.sk-toggleable__control:checked~label.sk-toggleable__label {background-color: #d4ebff;}#sk-container-id-1 input.sk-hidden--visually {border: 0;clip: rect(1px 1px 1px 1px);clip: rect(1px, 1px, 1px, 1px);height: 1px;margin: -1px;overflow: hidden;padding: 0;position: absolute;width: 1px;}#sk-container-id-1 div.sk-estimator {font-family: monospace;background-color: #f0f8ff;border: 1px dotted black;border-radius: 0.25em;box-sizing: border-box;margin-bottom: 0.5em;}#sk-container-id-1 div.sk-estimator:hover {background-color: #d4ebff;}#sk-container-id-1 div.sk-parallel-item::after {content: \"\";width: 100%;border-bottom: 1px solid gray;flex-grow: 1;}#sk-container-id-1 div.sk-label:hover label.sk-toggleable__label {background-color: #d4ebff;}#sk-container-id-1 div.sk-serial::before {content: \"\";position: absolute;border-left: 1px solid gray;box-sizing: border-box;top: 0;bottom: 0;left: 50%;z-index: 0;}#sk-container-id-1 div.sk-serial {display: flex;flex-direction: column;align-items: center;background-color: white;padding-right: 0.2em;padding-left: 0.2em;position: relative;}#sk-container-id-1 div.sk-item {position: relative;z-index: 1;}#sk-container-id-1 div.sk-parallel {display: flex;align-items: stretch;justify-content: center;background-color: white;position: relative;}#sk-container-id-1 div.sk-item::before, #sk-container-id-1 div.sk-parallel-item::before {content: \"\";position: absolute;border-left: 1px solid gray;box-sizing: border-box;top: 0;bottom: 0;left: 50%;z-index: -1;}#sk-container-id-1 div.sk-parallel-item {display: flex;flex-direction: column;z-index: 1;position: relative;background-color: white;}#sk-container-id-1 div.sk-parallel-item:first-child::after {align-self: flex-end;width: 50%;}#sk-container-id-1 div.sk-parallel-item:last-child::after {align-self: flex-start;width: 50%;}#sk-container-id-1 div.sk-parallel-item:only-child::after {width: 0;}#sk-container-id-1 div.sk-dashed-wrapped {border: 1px dashed gray;margin: 0 0.4em 0.5em 0.4em;box-sizing: border-box;padding-bottom: 0.4em;background-color: white;}#sk-container-id-1 div.sk-label label {font-family: monospace;font-weight: bold;display: inline-block;line-height: 1.2em;}#sk-container-id-1 div.sk-label-container {text-align: center;}#sk-container-id-1 div.sk-container {/* jupyter's `normalize.less` sets `[hidden] { display: none; }` but bootstrap.min.css set `[hidden] { display: none !important; }` so we also need the `!important` here to be able to override the default hidden behavior on the sphinx rendered scikit-learn.org. See: https://github.com/scikit-learn/scikit-learn/issues/21755 */display: inline-block !important;position: relative;}#sk-container-id-1 div.sk-text-repr-fallback {display: none;}</style><div id=\"sk-container-id-1\" class=\"sk-top-container\"><div class=\"sk-text-repr-fallback\"><pre>XGBClassifier(base_score=None, booster=None, callbacks=None,\n",
       "              colsample_bylevel=None, colsample_bynode=None,\n",
       "              colsample_bytree=None, device=None, early_stopping_rounds=None,\n",
       "              enable_categorical=False, eval_metric=None, feature_types=None,\n",
       "              gamma=None, grow_policy=None, importance_type=None,\n",
       "              interaction_constraints=None, learning_rate=0.2319503520076279,\n",
       "              max_bin=None, max_cat_threshold=None, max_cat_to_onehot=None,\n",
       "              max_delta_step=None, max_depth=10, max_leaves=None,\n",
       "              min_child_weight=None, missing=nan, monotone_constraints=None,\n",
       "              multi_strategy=None, n_estimators=266, n_jobs=None,\n",
       "              num_parallel_tree=None, random_state=None, ...)</pre><b>In a Jupyter environment, please rerun this cell to show the HTML representation or trust the notebook. <br />On GitHub, the HTML representation is unable to render, please try loading this page with nbviewer.org.</b></div><div class=\"sk-container\" hidden><div class=\"sk-item\"><div class=\"sk-estimator sk-toggleable\"><input class=\"sk-toggleable__control sk-hidden--visually\" id=\"sk-estimator-id-1\" type=\"checkbox\" checked><label for=\"sk-estimator-id-1\" class=\"sk-toggleable__label sk-toggleable__label-arrow\">XGBClassifier</label><div class=\"sk-toggleable__content\"><pre>XGBClassifier(base_score=None, booster=None, callbacks=None,\n",
       "              colsample_bylevel=None, colsample_bynode=None,\n",
       "              colsample_bytree=None, device=None, early_stopping_rounds=None,\n",
       "              enable_categorical=False, eval_metric=None, feature_types=None,\n",
       "              gamma=None, grow_policy=None, importance_type=None,\n",
       "              interaction_constraints=None, learning_rate=0.2319503520076279,\n",
       "              max_bin=None, max_cat_threshold=None, max_cat_to_onehot=None,\n",
       "              max_delta_step=None, max_depth=10, max_leaves=None,\n",
       "              min_child_weight=None, missing=nan, monotone_constraints=None,\n",
       "              multi_strategy=None, n_estimators=266, n_jobs=None,\n",
       "              num_parallel_tree=None, random_state=None, ...)</pre></div></div></div></div></div>"
      ],
      "text/plain": [
       "XGBClassifier(base_score=None, booster=None, callbacks=None,\n",
       "              colsample_bylevel=None, colsample_bynode=None,\n",
       "              colsample_bytree=None, device=None, early_stopping_rounds=None,\n",
       "              enable_categorical=False, eval_metric=None, feature_types=None,\n",
       "              gamma=None, grow_policy=None, importance_type=None,\n",
       "              interaction_constraints=None, learning_rate=0.2319503520076279,\n",
       "              max_bin=None, max_cat_threshold=None, max_cat_to_onehot=None,\n",
       "              max_delta_step=None, max_depth=10, max_leaves=None,\n",
       "              min_child_weight=None, missing=nan, monotone_constraints=None,\n",
       "              multi_strategy=None, n_estimators=266, n_jobs=None,\n",
       "              num_parallel_tree=None, random_state=None, ...)"
      ]
     },
     "execution_count": 13,
     "metadata": {},
     "output_type": "execute_result"
    }
   ],
   "source": [
    "grid = {'n_estimators': randint(1, 400),\n",
    "        'max_depth': randint(1, 13),  \n",
    "        'learning_rate': loguniform (0.001, 0.5)\n",
    "       }\n",
    "bst = XGBClassifier()\n",
    "# Instantiate Grid Search\n",
    "search = RandomizedSearchCV(\n",
    "    bst,\n",
    "    grid, \n",
    "    scoring='precision',\n",
    "    n_iter=100,  \n",
    "    cv=5, n_jobs=-1\n",
    ")\n",
    "\n",
    "search.fit(X_train, y_train)\n",
    "search.best_estimator_"
   ]
  },
  {
   "cell_type": "code",
   "execution_count": 15,
   "id": "8e138d90-e51c-481c-880c-fb11ae8a788b",
   "metadata": {},
   "outputs": [
    {
     "data": {
      "text/html": [
       "<style>#sk-container-id-2 {color: black;}#sk-container-id-2 pre{padding: 0;}#sk-container-id-2 div.sk-toggleable {background-color: white;}#sk-container-id-2 label.sk-toggleable__label {cursor: pointer;display: block;width: 100%;margin-bottom: 0;padding: 0.3em;box-sizing: border-box;text-align: center;}#sk-container-id-2 label.sk-toggleable__label-arrow:before {content: \"▸\";float: left;margin-right: 0.25em;color: #696969;}#sk-container-id-2 label.sk-toggleable__label-arrow:hover:before {color: black;}#sk-container-id-2 div.sk-estimator:hover label.sk-toggleable__label-arrow:before {color: black;}#sk-container-id-2 div.sk-toggleable__content {max-height: 0;max-width: 0;overflow: hidden;text-align: left;background-color: #f0f8ff;}#sk-container-id-2 div.sk-toggleable__content pre {margin: 0.2em;color: black;border-radius: 0.25em;background-color: #f0f8ff;}#sk-container-id-2 input.sk-toggleable__control:checked~div.sk-toggleable__content {max-height: 200px;max-width: 100%;overflow: auto;}#sk-container-id-2 input.sk-toggleable__control:checked~label.sk-toggleable__label-arrow:before {content: \"▾\";}#sk-container-id-2 div.sk-estimator input.sk-toggleable__control:checked~label.sk-toggleable__label {background-color: #d4ebff;}#sk-container-id-2 div.sk-label input.sk-toggleable__control:checked~label.sk-toggleable__label {background-color: #d4ebff;}#sk-container-id-2 input.sk-hidden--visually {border: 0;clip: rect(1px 1px 1px 1px);clip: rect(1px, 1px, 1px, 1px);height: 1px;margin: -1px;overflow: hidden;padding: 0;position: absolute;width: 1px;}#sk-container-id-2 div.sk-estimator {font-family: monospace;background-color: #f0f8ff;border: 1px dotted black;border-radius: 0.25em;box-sizing: border-box;margin-bottom: 0.5em;}#sk-container-id-2 div.sk-estimator:hover {background-color: #d4ebff;}#sk-container-id-2 div.sk-parallel-item::after {content: \"\";width: 100%;border-bottom: 1px solid gray;flex-grow: 1;}#sk-container-id-2 div.sk-label:hover label.sk-toggleable__label {background-color: #d4ebff;}#sk-container-id-2 div.sk-serial::before {content: \"\";position: absolute;border-left: 1px solid gray;box-sizing: border-box;top: 0;bottom: 0;left: 50%;z-index: 0;}#sk-container-id-2 div.sk-serial {display: flex;flex-direction: column;align-items: center;background-color: white;padding-right: 0.2em;padding-left: 0.2em;position: relative;}#sk-container-id-2 div.sk-item {position: relative;z-index: 1;}#sk-container-id-2 div.sk-parallel {display: flex;align-items: stretch;justify-content: center;background-color: white;position: relative;}#sk-container-id-2 div.sk-item::before, #sk-container-id-2 div.sk-parallel-item::before {content: \"\";position: absolute;border-left: 1px solid gray;box-sizing: border-box;top: 0;bottom: 0;left: 50%;z-index: -1;}#sk-container-id-2 div.sk-parallel-item {display: flex;flex-direction: column;z-index: 1;position: relative;background-color: white;}#sk-container-id-2 div.sk-parallel-item:first-child::after {align-self: flex-end;width: 50%;}#sk-container-id-2 div.sk-parallel-item:last-child::after {align-self: flex-start;width: 50%;}#sk-container-id-2 div.sk-parallel-item:only-child::after {width: 0;}#sk-container-id-2 div.sk-dashed-wrapped {border: 1px dashed gray;margin: 0 0.4em 0.5em 0.4em;box-sizing: border-box;padding-bottom: 0.4em;background-color: white;}#sk-container-id-2 div.sk-label label {font-family: monospace;font-weight: bold;display: inline-block;line-height: 1.2em;}#sk-container-id-2 div.sk-label-container {text-align: center;}#sk-container-id-2 div.sk-container {/* jupyter's `normalize.less` sets `[hidden] { display: none; }` but bootstrap.min.css set `[hidden] { display: none !important; }` so we also need the `!important` here to be able to override the default hidden behavior on the sphinx rendered scikit-learn.org. See: https://github.com/scikit-learn/scikit-learn/issues/21755 */display: inline-block !important;position: relative;}#sk-container-id-2 div.sk-text-repr-fallback {display: none;}</style><div id=\"sk-container-id-2\" class=\"sk-top-container\"><div class=\"sk-text-repr-fallback\"><pre>XGBClassifier(base_score=None, booster=None, callbacks=None,\n",
       "              colsample_bylevel=None, colsample_bynode=None,\n",
       "              colsample_bytree=None, device=None, early_stopping_rounds=None,\n",
       "              enable_categorical=False, eval_metric=None, feature_types=None,\n",
       "              gamma=None, grow_policy=None, importance_type=None,\n",
       "              interaction_constraints=None, learning_rate=0.2319503520076279,\n",
       "              max_bin=None, max_cat_threshold=None, max_cat_to_onehot=None,\n",
       "              max_delta_step=None, max_depth=9, max_leaves=None,\n",
       "              min_child_weight=None, missing=nan, monotone_constraints=None,\n",
       "              multi_strategy=None, n_estimators=400, n_jobs=None,\n",
       "              num_parallel_tree=None, random_state=None, ...)</pre><b>In a Jupyter environment, please rerun this cell to show the HTML representation or trust the notebook. <br />On GitHub, the HTML representation is unable to render, please try loading this page with nbviewer.org.</b></div><div class=\"sk-container\" hidden><div class=\"sk-item\"><div class=\"sk-estimator sk-toggleable\"><input class=\"sk-toggleable__control sk-hidden--visually\" id=\"sk-estimator-id-2\" type=\"checkbox\" checked><label for=\"sk-estimator-id-2\" class=\"sk-toggleable__label sk-toggleable__label-arrow\">XGBClassifier</label><div class=\"sk-toggleable__content\"><pre>XGBClassifier(base_score=None, booster=None, callbacks=None,\n",
       "              colsample_bylevel=None, colsample_bynode=None,\n",
       "              colsample_bytree=None, device=None, early_stopping_rounds=None,\n",
       "              enable_categorical=False, eval_metric=None, feature_types=None,\n",
       "              gamma=None, grow_policy=None, importance_type=None,\n",
       "              interaction_constraints=None, learning_rate=0.2319503520076279,\n",
       "              max_bin=None, max_cat_threshold=None, max_cat_to_onehot=None,\n",
       "              max_delta_step=None, max_depth=9, max_leaves=None,\n",
       "              min_child_weight=None, missing=nan, monotone_constraints=None,\n",
       "              multi_strategy=None, n_estimators=400, n_jobs=None,\n",
       "              num_parallel_tree=None, random_state=None, ...)</pre></div></div></div></div></div>"
      ],
      "text/plain": [
       "XGBClassifier(base_score=None, booster=None, callbacks=None,\n",
       "              colsample_bylevel=None, colsample_bynode=None,\n",
       "              colsample_bytree=None, device=None, early_stopping_rounds=None,\n",
       "              enable_categorical=False, eval_metric=None, feature_types=None,\n",
       "              gamma=None, grow_policy=None, importance_type=None,\n",
       "              interaction_constraints=None, learning_rate=0.2319503520076279,\n",
       "              max_bin=None, max_cat_threshold=None, max_cat_to_onehot=None,\n",
       "              max_delta_step=None, max_depth=9, max_leaves=None,\n",
       "              min_child_weight=None, missing=nan, monotone_constraints=None,\n",
       "              multi_strategy=None, n_estimators=400, n_jobs=None,\n",
       "              num_parallel_tree=None, random_state=None, ...)"
      ]
     },
     "execution_count": 15,
     "metadata": {},
     "output_type": "execute_result"
    }
   ],
   "source": [
    "grid = {'n_estimators': [250,266, 350,300,400],\n",
    "        'max_depth': range(9,11),  \n",
    "        'learning_rate': [0.2, 0.22, 0.2319503520076279, 0.24, 0.25, 0.26, 0.27, 0.28]\n",
    "       }\n",
    "bst = XGBClassifier()\n",
    "# # Instantiate Grid Search\n",
    "search = GridSearchCV(\n",
    "     bst,\n",
    "     grid, \n",
    "     scoring='precision',\n",
    "     cv=5, n_jobs=-1\n",
    ")\n",
    "search.fit(X_train, y_train)\n",
    "search.best_estimator_"
   ]
  },
  {
   "cell_type": "code",
   "execution_count": 19,
   "id": "0aec351a-585e-438b-9000-b1206d43f752",
   "metadata": {
    "tags": []
   },
   "outputs": [],
   "source": [
    "# svm_XGB_best2 = XGBClassifier(learning_rate=0.2, max_depth=9, n_estimators=450)\n",
    "svm_XGB_best2 = XGBClassifier(n_estimators=400, max_depth=9, learning_rate=0.2319503520076279, objective='binary:logistic')"
   ]
  },
  {
   "cell_type": "code",
   "execution_count": 17,
   "id": "0f79a141-c715-4271-919b-d11d7f20b8ab",
   "metadata": {},
   "outputs": [
    {
     "data": {
      "text/plain": [
       "0.8899770804819018"
      ]
     },
     "execution_count": 17,
     "metadata": {},
     "output_type": "execute_result"
    }
   ],
   "source": [
    "cross_val_score(svm_XGB_best2,X_train,y_train,cv=10,scoring='accuracy').mean()\n"
   ]
  },
  {
   "cell_type": "code",
   "execution_count": 18,
   "id": "cc38965a-7b66-4631-bf91-1b7b278863f2",
   "metadata": {
    "tags": []
   },
   "outputs": [
    {
     "data": {
      "text/plain": [
       "0.8712522290812783"
      ]
     },
     "execution_count": 18,
     "metadata": {},
     "output_type": "execute_result"
    }
   ],
   "source": [
    "cross_val_score(svm_XGB_best2,X_train,y_train,cv=5,scoring='precision',n_jobs=-1).mean()\n"
   ]
  },
  {
   "cell_type": "code",
   "execution_count": 19,
   "id": "878c29fc-b556-4ee0-b460-3b147f12c50f",
   "metadata": {
    "tags": []
   },
   "outputs": [
    {
     "data": {
      "text/plain": [
       "0.9076613273931156"
      ]
     },
     "execution_count": 19,
     "metadata": {},
     "output_type": "execute_result"
    }
   ],
   "source": [
    "cross_val_score(svm_XGB_best2,X_train,y_train,cv=5, n_jobs=-1,scoring='recall').mean()\n"
   ]
  },
  {
   "cell_type": "code",
   "execution_count": 20,
   "id": "b4373e34-b487-4071-87c6-e1d8d8f5e753",
   "metadata": {
    "scrolled": true
   },
   "outputs": [
    {
     "data": {
      "text/html": [
       "<style>#sk-container-id-1 {color: black;}#sk-container-id-1 pre{padding: 0;}#sk-container-id-1 div.sk-toggleable {background-color: white;}#sk-container-id-1 label.sk-toggleable__label {cursor: pointer;display: block;width: 100%;margin-bottom: 0;padding: 0.3em;box-sizing: border-box;text-align: center;}#sk-container-id-1 label.sk-toggleable__label-arrow:before {content: \"▸\";float: left;margin-right: 0.25em;color: #696969;}#sk-container-id-1 label.sk-toggleable__label-arrow:hover:before {color: black;}#sk-container-id-1 div.sk-estimator:hover label.sk-toggleable__label-arrow:before {color: black;}#sk-container-id-1 div.sk-toggleable__content {max-height: 0;max-width: 0;overflow: hidden;text-align: left;background-color: #f0f8ff;}#sk-container-id-1 div.sk-toggleable__content pre {margin: 0.2em;color: black;border-radius: 0.25em;background-color: #f0f8ff;}#sk-container-id-1 input.sk-toggleable__control:checked~div.sk-toggleable__content {max-height: 200px;max-width: 100%;overflow: auto;}#sk-container-id-1 input.sk-toggleable__control:checked~label.sk-toggleable__label-arrow:before {content: \"▾\";}#sk-container-id-1 div.sk-estimator input.sk-toggleable__control:checked~label.sk-toggleable__label {background-color: #d4ebff;}#sk-container-id-1 div.sk-label input.sk-toggleable__control:checked~label.sk-toggleable__label {background-color: #d4ebff;}#sk-container-id-1 input.sk-hidden--visually {border: 0;clip: rect(1px 1px 1px 1px);clip: rect(1px, 1px, 1px, 1px);height: 1px;margin: -1px;overflow: hidden;padding: 0;position: absolute;width: 1px;}#sk-container-id-1 div.sk-estimator {font-family: monospace;background-color: #f0f8ff;border: 1px dotted black;border-radius: 0.25em;box-sizing: border-box;margin-bottom: 0.5em;}#sk-container-id-1 div.sk-estimator:hover {background-color: #d4ebff;}#sk-container-id-1 div.sk-parallel-item::after {content: \"\";width: 100%;border-bottom: 1px solid gray;flex-grow: 1;}#sk-container-id-1 div.sk-label:hover label.sk-toggleable__label {background-color: #d4ebff;}#sk-container-id-1 div.sk-serial::before {content: \"\";position: absolute;border-left: 1px solid gray;box-sizing: border-box;top: 0;bottom: 0;left: 50%;z-index: 0;}#sk-container-id-1 div.sk-serial {display: flex;flex-direction: column;align-items: center;background-color: white;padding-right: 0.2em;padding-left: 0.2em;position: relative;}#sk-container-id-1 div.sk-item {position: relative;z-index: 1;}#sk-container-id-1 div.sk-parallel {display: flex;align-items: stretch;justify-content: center;background-color: white;position: relative;}#sk-container-id-1 div.sk-item::before, #sk-container-id-1 div.sk-parallel-item::before {content: \"\";position: absolute;border-left: 1px solid gray;box-sizing: border-box;top: 0;bottom: 0;left: 50%;z-index: -1;}#sk-container-id-1 div.sk-parallel-item {display: flex;flex-direction: column;z-index: 1;position: relative;background-color: white;}#sk-container-id-1 div.sk-parallel-item:first-child::after {align-self: flex-end;width: 50%;}#sk-container-id-1 div.sk-parallel-item:last-child::after {align-self: flex-start;width: 50%;}#sk-container-id-1 div.sk-parallel-item:only-child::after {width: 0;}#sk-container-id-1 div.sk-dashed-wrapped {border: 1px dashed gray;margin: 0 0.4em 0.5em 0.4em;box-sizing: border-box;padding-bottom: 0.4em;background-color: white;}#sk-container-id-1 div.sk-label label {font-family: monospace;font-weight: bold;display: inline-block;line-height: 1.2em;}#sk-container-id-1 div.sk-label-container {text-align: center;}#sk-container-id-1 div.sk-container {/* jupyter's `normalize.less` sets `[hidden] { display: none; }` but bootstrap.min.css set `[hidden] { display: none !important; }` so we also need the `!important` here to be able to override the default hidden behavior on the sphinx rendered scikit-learn.org. See: https://github.com/scikit-learn/scikit-learn/issues/21755 */display: inline-block !important;position: relative;}#sk-container-id-1 div.sk-text-repr-fallback {display: none;}</style><div id=\"sk-container-id-1\" class=\"sk-top-container\"><div class=\"sk-text-repr-fallback\"><pre>XGBClassifier(base_score=None, booster=None, callbacks=None,\n",
       "              colsample_bylevel=None, colsample_bynode=None,\n",
       "              colsample_bytree=None, device=None, early_stopping_rounds=None,\n",
       "              enable_categorical=False, eval_metric=None, feature_types=None,\n",
       "              gamma=None, grow_policy=None, importance_type=None,\n",
       "              interaction_constraints=None, learning_rate=0.2319503520076279,\n",
       "              max_bin=None, max_cat_threshold=None, max_cat_to_onehot=None,\n",
       "              max_delta_step=None, max_depth=9, max_leaves=None,\n",
       "              min_child_weight=None, missing=nan, monotone_constraints=None,\n",
       "              multi_strategy=None, n_estimators=400, n_jobs=None,\n",
       "              num_parallel_tree=None, random_state=None, ...)</pre><b>In a Jupyter environment, please rerun this cell to show the HTML representation or trust the notebook. <br />On GitHub, the HTML representation is unable to render, please try loading this page with nbviewer.org.</b></div><div class=\"sk-container\" hidden><div class=\"sk-item\"><div class=\"sk-estimator sk-toggleable\"><input class=\"sk-toggleable__control sk-hidden--visually\" id=\"sk-estimator-id-1\" type=\"checkbox\" checked><label for=\"sk-estimator-id-1\" class=\"sk-toggleable__label sk-toggleable__label-arrow\">XGBClassifier</label><div class=\"sk-toggleable__content\"><pre>XGBClassifier(base_score=None, booster=None, callbacks=None,\n",
       "              colsample_bylevel=None, colsample_bynode=None,\n",
       "              colsample_bytree=None, device=None, early_stopping_rounds=None,\n",
       "              enable_categorical=False, eval_metric=None, feature_types=None,\n",
       "              gamma=None, grow_policy=None, importance_type=None,\n",
       "              interaction_constraints=None, learning_rate=0.2319503520076279,\n",
       "              max_bin=None, max_cat_threshold=None, max_cat_to_onehot=None,\n",
       "              max_delta_step=None, max_depth=9, max_leaves=None,\n",
       "              min_child_weight=None, missing=nan, monotone_constraints=None,\n",
       "              multi_strategy=None, n_estimators=400, n_jobs=None,\n",
       "              num_parallel_tree=None, random_state=None, ...)</pre></div></div></div></div></div>"
      ],
      "text/plain": [
       "XGBClassifier(base_score=None, booster=None, callbacks=None,\n",
       "              colsample_bylevel=None, colsample_bynode=None,\n",
       "              colsample_bytree=None, device=None, early_stopping_rounds=None,\n",
       "              enable_categorical=False, eval_metric=None, feature_types=None,\n",
       "              gamma=None, grow_policy=None, importance_type=None,\n",
       "              interaction_constraints=None, learning_rate=0.2319503520076279,\n",
       "              max_bin=None, max_cat_threshold=None, max_cat_to_onehot=None,\n",
       "              max_delta_step=None, max_depth=9, max_leaves=None,\n",
       "              min_child_weight=None, missing=nan, monotone_constraints=None,\n",
       "              multi_strategy=None, n_estimators=400, n_jobs=None,\n",
       "              num_parallel_tree=None, random_state=None, ...)"
      ]
     },
     "execution_count": 20,
     "metadata": {},
     "output_type": "execute_result"
    }
   ],
   "source": [
    "svm_XGB_best2.fit(X_train,y_train)"
   ]
  },
  {
   "cell_type": "code",
   "execution_count": 21,
   "id": "f8d6b6ba-efdd-486e-bad9-7b297785067b",
   "metadata": {},
   "outputs": [
    {
     "data": {
      "text/plain": [
       "0.9053435114503817"
      ]
     },
     "execution_count": 21,
     "metadata": {},
     "output_type": "execute_result"
    }
   ],
   "source": [
    "y_pred = svm_XGB_best2.predict(X_test)\n",
    "\n",
    "accuracy_score(y_test, y_pred)"
   ]
  },
  {
   "cell_type": "code",
   "execution_count": 22,
   "id": "cb67aff7-b429-4a7c-b759-2265f7f2ae04",
   "metadata": {},
   "outputs": [
    {
     "data": {
      "text/plain": [
       "0.974432466708941"
      ]
     },
     "execution_count": 22,
     "metadata": {},
     "output_type": "execute_result"
    }
   ],
   "source": [
    "precision_score(y_test, y_pred)"
   ]
  },
  {
   "cell_type": "code",
   "execution_count": 23,
   "id": "cbc3e38d-d42d-4c56-998a-4bd5ac4e2535",
   "metadata": {},
   "outputs": [
    {
     "data": {
      "text/plain": [
       "0.9120628665036442"
      ]
     },
     "execution_count": 23,
     "metadata": {},
     "output_type": "execute_result"
    }
   ],
   "source": [
    "recall_score(y_test, y_pred)"
   ]
  },
  {
   "cell_type": "markdown",
   "id": "ebcb0d82-6824-4f9e-94ed-7cdd3ba046d3",
   "metadata": {},
   "source": [
    "### Taking out the phone asvc data"
   ]
  },
  {
   "cell_type": "code",
   "execution_count": 71,
   "id": "e60b65e3-86ca-467c-861e-f26cf1b3cf8c",
   "metadata": {},
   "outputs": [],
   "source": [
    "df_asvc2021 = pd.read_csv('Data/new_df_ASV_DF_Elise.csv')\n",
    "full_df = pd.read_csv('Data/full_df.csv')\n"
   ]
  },
  {
   "cell_type": "code",
   "execution_count": 72,
   "id": "d346b804-39a4-48db-b91e-6c78f061ed52",
   "metadata": {},
   "outputs": [],
   "source": [
    "df_asvc2021.LABEL = df_asvc2021.LABEL.map({ 1 : 'REAL', 0 : 'FAKE'} )"
   ]
  },
  {
   "cell_type": "code",
   "execution_count": 73,
   "id": "b2f26845-2af9-4adf-b602-a3fdeb3c68a2",
   "metadata": {},
   "outputs": [],
   "source": [
    "new_df = pd.concat([df_asvc2021,full_df])"
   ]
  },
  {
   "cell_type": "code",
   "execution_count": 53,
   "id": "ad14c329-8462-439b-ae1b-292cdd6f841e",
   "metadata": {},
   "outputs": [],
   "source": [
    "new_df.to_csv('Data/df_asvc_without_LA.csv',index=False)"
   ]
  },
  {
   "cell_type": "code",
   "execution_count": 74,
   "id": "6f236b45-42d7-4a51-ab75-e62a80f82b81",
   "metadata": {},
   "outputs": [
    {
     "data": {
      "text/html": [
       "<div>\n",
       "<style scoped>\n",
       "    .dataframe tbody tr th:only-of-type {\n",
       "        vertical-align: middle;\n",
       "    }\n",
       "\n",
       "    .dataframe tbody tr th {\n",
       "        vertical-align: top;\n",
       "    }\n",
       "\n",
       "    .dataframe thead th {\n",
       "        text-align: right;\n",
       "    }\n",
       "</style>\n",
       "<table border=\"1\" class=\"dataframe\">\n",
       "  <thead>\n",
       "    <tr style=\"text-align: right;\">\n",
       "      <th></th>\n",
       "      <th>chroma_stft</th>\n",
       "      <th>rms</th>\n",
       "      <th>spectral_centroid</th>\n",
       "      <th>spectral_bandwidth</th>\n",
       "      <th>rolloff</th>\n",
       "      <th>zero_crossing_rate</th>\n",
       "      <th>mfcc1</th>\n",
       "      <th>mfcc2</th>\n",
       "      <th>mfcc3</th>\n",
       "      <th>mfcc4</th>\n",
       "      <th>...</th>\n",
       "      <th>mfcc12</th>\n",
       "      <th>mfcc13</th>\n",
       "      <th>mfcc14</th>\n",
       "      <th>mfcc15</th>\n",
       "      <th>mfcc16</th>\n",
       "      <th>mfcc17</th>\n",
       "      <th>mfcc18</th>\n",
       "      <th>mfcc19</th>\n",
       "      <th>mfcc20</th>\n",
       "      <th>LABEL</th>\n",
       "    </tr>\n",
       "  </thead>\n",
       "  <tbody>\n",
       "    <tr>\n",
       "      <th>0</th>\n",
       "      <td>0.306480</td>\n",
       "      <td>0.076295</td>\n",
       "      <td>1413.467433</td>\n",
       "      <td>1839.001565</td>\n",
       "      <td>2703.151079</td>\n",
       "      <td>0.053345</td>\n",
       "      <td>-232.30121</td>\n",
       "      <td>133.165650</td>\n",
       "      <td>-22.955957</td>\n",
       "      <td>8.888358</td>\n",
       "      <td>...</td>\n",
       "      <td>2.394415</td>\n",
       "      <td>-3.317231</td>\n",
       "      <td>-14.874663</td>\n",
       "      <td>-4.914529</td>\n",
       "      <td>-1.474122</td>\n",
       "      <td>-10.153106</td>\n",
       "      <td>-9.911881</td>\n",
       "      <td>-3.817368</td>\n",
       "      <td>-10.349003</td>\n",
       "      <td>REAL</td>\n",
       "    </tr>\n",
       "    <tr>\n",
       "      <th>1</th>\n",
       "      <td>0.477024</td>\n",
       "      <td>0.006032</td>\n",
       "      <td>2639.868324</td>\n",
       "      <td>2527.274422</td>\n",
       "      <td>5466.497248</td>\n",
       "      <td>0.117154</td>\n",
       "      <td>-383.07986</td>\n",
       "      <td>90.157790</td>\n",
       "      <td>-8.644286</td>\n",
       "      <td>15.567981</td>\n",
       "      <td>...</td>\n",
       "      <td>0.886504</td>\n",
       "      <td>-8.037273</td>\n",
       "      <td>-2.922858</td>\n",
       "      <td>-8.647303</td>\n",
       "      <td>-2.993608</td>\n",
       "      <td>-6.740992</td>\n",
       "      <td>-4.170974</td>\n",
       "      <td>-7.415453</td>\n",
       "      <td>-4.745568</td>\n",
       "      <td>REAL</td>\n",
       "    </tr>\n",
       "    <tr>\n",
       "      <th>2</th>\n",
       "      <td>0.423958</td>\n",
       "      <td>0.054416</td>\n",
       "      <td>1729.632773</td>\n",
       "      <td>2022.347548</td>\n",
       "      <td>3623.206121</td>\n",
       "      <td>0.079767</td>\n",
       "      <td>-287.24896</td>\n",
       "      <td>125.231820</td>\n",
       "      <td>-8.775691</td>\n",
       "      <td>22.783344</td>\n",
       "      <td>...</td>\n",
       "      <td>-2.435866</td>\n",
       "      <td>-9.924732</td>\n",
       "      <td>-2.930283</td>\n",
       "      <td>-7.618189</td>\n",
       "      <td>-2.912869</td>\n",
       "      <td>-5.278629</td>\n",
       "      <td>-3.483856</td>\n",
       "      <td>-4.521770</td>\n",
       "      <td>-0.359239</td>\n",
       "      <td>REAL</td>\n",
       "    </tr>\n",
       "    <tr>\n",
       "      <th>3</th>\n",
       "      <td>0.423640</td>\n",
       "      <td>0.038472</td>\n",
       "      <td>2266.627450</td>\n",
       "      <td>2006.521778</td>\n",
       "      <td>4112.597101</td>\n",
       "      <td>0.118597</td>\n",
       "      <td>-265.62040</td>\n",
       "      <td>103.924530</td>\n",
       "      <td>-9.073397</td>\n",
       "      <td>43.439182</td>\n",
       "      <td>...</td>\n",
       "      <td>-3.888492</td>\n",
       "      <td>-8.790924</td>\n",
       "      <td>2.843195</td>\n",
       "      <td>-3.305686</td>\n",
       "      <td>-1.018029</td>\n",
       "      <td>-0.356833</td>\n",
       "      <td>0.381062</td>\n",
       "      <td>-4.544253</td>\n",
       "      <td>0.707247</td>\n",
       "      <td>REAL</td>\n",
       "    </tr>\n",
       "    <tr>\n",
       "      <th>4</th>\n",
       "      <td>0.502441</td>\n",
       "      <td>0.036537</td>\n",
       "      <td>2135.115673</td>\n",
       "      <td>2027.611411</td>\n",
       "      <td>4083.723034</td>\n",
       "      <td>0.128285</td>\n",
       "      <td>-310.34613</td>\n",
       "      <td>113.192940</td>\n",
       "      <td>-28.261267</td>\n",
       "      <td>12.852004</td>\n",
       "      <td>...</td>\n",
       "      <td>-4.229133</td>\n",
       "      <td>-6.774048</td>\n",
       "      <td>5.878327</td>\n",
       "      <td>-2.639606</td>\n",
       "      <td>-0.157469</td>\n",
       "      <td>-2.179182</td>\n",
       "      <td>-3.610251</td>\n",
       "      <td>-6.534174</td>\n",
       "      <td>-3.241210</td>\n",
       "      <td>REAL</td>\n",
       "    </tr>\n",
       "    <tr>\n",
       "      <th>...</th>\n",
       "      <td>...</td>\n",
       "      <td>...</td>\n",
       "      <td>...</td>\n",
       "      <td>...</td>\n",
       "      <td>...</td>\n",
       "      <td>...</td>\n",
       "      <td>...</td>\n",
       "      <td>...</td>\n",
       "      <td>...</td>\n",
       "      <td>...</td>\n",
       "      <td>...</td>\n",
       "      <td>...</td>\n",
       "      <td>...</td>\n",
       "      <td>...</td>\n",
       "      <td>...</td>\n",
       "      <td>...</td>\n",
       "      <td>...</td>\n",
       "      <td>...</td>\n",
       "      <td>...</td>\n",
       "      <td>...</td>\n",
       "      <td>...</td>\n",
       "    </tr>\n",
       "    <tr>\n",
       "      <th>42079</th>\n",
       "      <td>0.314406</td>\n",
       "      <td>0.046116</td>\n",
       "      <td>2698.440901</td>\n",
       "      <td>2535.992561</td>\n",
       "      <td>5354.182018</td>\n",
       "      <td>0.149414</td>\n",
       "      <td>-255.56259</td>\n",
       "      <td>87.417946</td>\n",
       "      <td>4.433178</td>\n",
       "      <td>13.824187</td>\n",
       "      <td>...</td>\n",
       "      <td>-0.741367</td>\n",
       "      <td>-4.572025</td>\n",
       "      <td>14.577326</td>\n",
       "      <td>-4.435467</td>\n",
       "      <td>-6.427833</td>\n",
       "      <td>4.626421</td>\n",
       "      <td>-0.856710</td>\n",
       "      <td>-12.452103</td>\n",
       "      <td>2.811413</td>\n",
       "      <td>REAL</td>\n",
       "    </tr>\n",
       "    <tr>\n",
       "      <th>42080</th>\n",
       "      <td>0.370378</td>\n",
       "      <td>0.056801</td>\n",
       "      <td>2955.994101</td>\n",
       "      <td>2328.057783</td>\n",
       "      <td>5294.231623</td>\n",
       "      <td>0.190552</td>\n",
       "      <td>-232.96104</td>\n",
       "      <td>76.125670</td>\n",
       "      <td>-1.108529</td>\n",
       "      <td>18.675050</td>\n",
       "      <td>...</td>\n",
       "      <td>2.659945</td>\n",
       "      <td>-9.495482</td>\n",
       "      <td>8.700753</td>\n",
       "      <td>-1.669142</td>\n",
       "      <td>-10.515453</td>\n",
       "      <td>0.587301</td>\n",
       "      <td>4.574445</td>\n",
       "      <td>-8.807771</td>\n",
       "      <td>4.212809</td>\n",
       "      <td>REAL</td>\n",
       "    </tr>\n",
       "    <tr>\n",
       "      <th>42081</th>\n",
       "      <td>0.309927</td>\n",
       "      <td>0.076453</td>\n",
       "      <td>1884.453339</td>\n",
       "      <td>2071.263641</td>\n",
       "      <td>3594.332053</td>\n",
       "      <td>0.091908</td>\n",
       "      <td>-237.58550</td>\n",
       "      <td>107.939300</td>\n",
       "      <td>-22.380022</td>\n",
       "      <td>18.590910</td>\n",
       "      <td>...</td>\n",
       "      <td>6.337625</td>\n",
       "      <td>-7.541246</td>\n",
       "      <td>11.250736</td>\n",
       "      <td>-8.606643</td>\n",
       "      <td>-7.723567</td>\n",
       "      <td>1.479188</td>\n",
       "      <td>-9.126733</td>\n",
       "      <td>-8.543749</td>\n",
       "      <td>0.512092</td>\n",
       "      <td>REAL</td>\n",
       "    </tr>\n",
       "    <tr>\n",
       "      <th>42082</th>\n",
       "      <td>0.385543</td>\n",
       "      <td>0.030032</td>\n",
       "      <td>2407.104292</td>\n",
       "      <td>2433.123626</td>\n",
       "      <td>4915.932395</td>\n",
       "      <td>0.120594</td>\n",
       "      <td>-269.90726</td>\n",
       "      <td>91.986984</td>\n",
       "      <td>9.712902</td>\n",
       "      <td>21.076706</td>\n",
       "      <td>...</td>\n",
       "      <td>2.552168</td>\n",
       "      <td>-6.178091</td>\n",
       "      <td>6.619003</td>\n",
       "      <td>-7.936121</td>\n",
       "      <td>-7.672117</td>\n",
       "      <td>0.772831</td>\n",
       "      <td>0.610292</td>\n",
       "      <td>-10.339297</td>\n",
       "      <td>0.709354</td>\n",
       "      <td>REAL</td>\n",
       "    </tr>\n",
       "    <tr>\n",
       "      <th>42083</th>\n",
       "      <td>0.393691</td>\n",
       "      <td>0.038122</td>\n",
       "      <td>1538.798451</td>\n",
       "      <td>2282.704354</td>\n",
       "      <td>3469.292658</td>\n",
       "      <td>0.047252</td>\n",
       "      <td>-397.18460</td>\n",
       "      <td>102.932300</td>\n",
       "      <td>35.093063</td>\n",
       "      <td>18.705288</td>\n",
       "      <td>...</td>\n",
       "      <td>9.521075</td>\n",
       "      <td>1.318715</td>\n",
       "      <td>-0.663174</td>\n",
       "      <td>-4.799354</td>\n",
       "      <td>-0.776587</td>\n",
       "      <td>-1.539508</td>\n",
       "      <td>-0.313031</td>\n",
       "      <td>-2.720249</td>\n",
       "      <td>-0.492884</td>\n",
       "      <td>REAL</td>\n",
       "    </tr>\n",
       "  </tbody>\n",
       "</table>\n",
       "<p>134182 rows × 27 columns</p>\n",
       "</div>"
      ],
      "text/plain": [
       "       chroma_stft       rms  spectral_centroid  spectral_bandwidth  \\\n",
       "0         0.306480  0.076295        1413.467433         1839.001565   \n",
       "1         0.477024  0.006032        2639.868324         2527.274422   \n",
       "2         0.423958  0.054416        1729.632773         2022.347548   \n",
       "3         0.423640  0.038472        2266.627450         2006.521778   \n",
       "4         0.502441  0.036537        2135.115673         2027.611411   \n",
       "...            ...       ...                ...                 ...   \n",
       "42079     0.314406  0.046116        2698.440901         2535.992561   \n",
       "42080     0.370378  0.056801        2955.994101         2328.057783   \n",
       "42081     0.309927  0.076453        1884.453339         2071.263641   \n",
       "42082     0.385543  0.030032        2407.104292         2433.123626   \n",
       "42083     0.393691  0.038122        1538.798451         2282.704354   \n",
       "\n",
       "           rolloff  zero_crossing_rate      mfcc1       mfcc2      mfcc3  \\\n",
       "0      2703.151079            0.053345 -232.30121  133.165650 -22.955957   \n",
       "1      5466.497248            0.117154 -383.07986   90.157790  -8.644286   \n",
       "2      3623.206121            0.079767 -287.24896  125.231820  -8.775691   \n",
       "3      4112.597101            0.118597 -265.62040  103.924530  -9.073397   \n",
       "4      4083.723034            0.128285 -310.34613  113.192940 -28.261267   \n",
       "...            ...                 ...        ...         ...        ...   \n",
       "42079  5354.182018            0.149414 -255.56259   87.417946   4.433178   \n",
       "42080  5294.231623            0.190552 -232.96104   76.125670  -1.108529   \n",
       "42081  3594.332053            0.091908 -237.58550  107.939300 -22.380022   \n",
       "42082  4915.932395            0.120594 -269.90726   91.986984   9.712902   \n",
       "42083  3469.292658            0.047252 -397.18460  102.932300  35.093063   \n",
       "\n",
       "           mfcc4  ...    mfcc12    mfcc13     mfcc14    mfcc15     mfcc16  \\\n",
       "0       8.888358  ...  2.394415 -3.317231 -14.874663 -4.914529  -1.474122   \n",
       "1      15.567981  ...  0.886504 -8.037273  -2.922858 -8.647303  -2.993608   \n",
       "2      22.783344  ... -2.435866 -9.924732  -2.930283 -7.618189  -2.912869   \n",
       "3      43.439182  ... -3.888492 -8.790924   2.843195 -3.305686  -1.018029   \n",
       "4      12.852004  ... -4.229133 -6.774048   5.878327 -2.639606  -0.157469   \n",
       "...          ...  ...       ...       ...        ...       ...        ...   \n",
       "42079  13.824187  ... -0.741367 -4.572025  14.577326 -4.435467  -6.427833   \n",
       "42080  18.675050  ...  2.659945 -9.495482   8.700753 -1.669142 -10.515453   \n",
       "42081  18.590910  ...  6.337625 -7.541246  11.250736 -8.606643  -7.723567   \n",
       "42082  21.076706  ...  2.552168 -6.178091   6.619003 -7.936121  -7.672117   \n",
       "42083  18.705288  ...  9.521075  1.318715  -0.663174 -4.799354  -0.776587   \n",
       "\n",
       "          mfcc17    mfcc18     mfcc19     mfcc20  LABEL  \n",
       "0     -10.153106 -9.911881  -3.817368 -10.349003   REAL  \n",
       "1      -6.740992 -4.170974  -7.415453  -4.745568   REAL  \n",
       "2      -5.278629 -3.483856  -4.521770  -0.359239   REAL  \n",
       "3      -0.356833  0.381062  -4.544253   0.707247   REAL  \n",
       "4      -2.179182 -3.610251  -6.534174  -3.241210   REAL  \n",
       "...          ...       ...        ...        ...    ...  \n",
       "42079   4.626421 -0.856710 -12.452103   2.811413   REAL  \n",
       "42080   0.587301  4.574445  -8.807771   4.212809   REAL  \n",
       "42081   1.479188 -9.126733  -8.543749   0.512092   REAL  \n",
       "42082   0.772831  0.610292 -10.339297   0.709354   REAL  \n",
       "42083  -1.539508 -0.313031  -2.720249  -0.492884   REAL  \n",
       "\n",
       "[134182 rows x 27 columns]"
      ]
     },
     "execution_count": 74,
     "metadata": {},
     "output_type": "execute_result"
    }
   ],
   "source": [
    "new_df"
   ]
  },
  {
   "cell_type": "code",
   "execution_count": 75,
   "id": "fafa0dd3-c9cd-46f1-96a9-36c9f9c1ba19",
   "metadata": {},
   "outputs": [],
   "source": [
    "X_train, X_test, y_train, y_test = get_train_test(new_df)"
   ]
  },
  {
   "cell_type": "code",
   "execution_count": 47,
   "id": "e8eb564d-526a-49aa-a884-17ab12180207",
   "metadata": {},
   "outputs": [
    {
     "data": {
      "text/html": [
       "<style>#sk-container-id-2 {color: black;}#sk-container-id-2 pre{padding: 0;}#sk-container-id-2 div.sk-toggleable {background-color: white;}#sk-container-id-2 label.sk-toggleable__label {cursor: pointer;display: block;width: 100%;margin-bottom: 0;padding: 0.3em;box-sizing: border-box;text-align: center;}#sk-container-id-2 label.sk-toggleable__label-arrow:before {content: \"▸\";float: left;margin-right: 0.25em;color: #696969;}#sk-container-id-2 label.sk-toggleable__label-arrow:hover:before {color: black;}#sk-container-id-2 div.sk-estimator:hover label.sk-toggleable__label-arrow:before {color: black;}#sk-container-id-2 div.sk-toggleable__content {max-height: 0;max-width: 0;overflow: hidden;text-align: left;background-color: #f0f8ff;}#sk-container-id-2 div.sk-toggleable__content pre {margin: 0.2em;color: black;border-radius: 0.25em;background-color: #f0f8ff;}#sk-container-id-2 input.sk-toggleable__control:checked~div.sk-toggleable__content {max-height: 200px;max-width: 100%;overflow: auto;}#sk-container-id-2 input.sk-toggleable__control:checked~label.sk-toggleable__label-arrow:before {content: \"▾\";}#sk-container-id-2 div.sk-estimator input.sk-toggleable__control:checked~label.sk-toggleable__label {background-color: #d4ebff;}#sk-container-id-2 div.sk-label input.sk-toggleable__control:checked~label.sk-toggleable__label {background-color: #d4ebff;}#sk-container-id-2 input.sk-hidden--visually {border: 0;clip: rect(1px 1px 1px 1px);clip: rect(1px, 1px, 1px, 1px);height: 1px;margin: -1px;overflow: hidden;padding: 0;position: absolute;width: 1px;}#sk-container-id-2 div.sk-estimator {font-family: monospace;background-color: #f0f8ff;border: 1px dotted black;border-radius: 0.25em;box-sizing: border-box;margin-bottom: 0.5em;}#sk-container-id-2 div.sk-estimator:hover {background-color: #d4ebff;}#sk-container-id-2 div.sk-parallel-item::after {content: \"\";width: 100%;border-bottom: 1px solid gray;flex-grow: 1;}#sk-container-id-2 div.sk-label:hover label.sk-toggleable__label {background-color: #d4ebff;}#sk-container-id-2 div.sk-serial::before {content: \"\";position: absolute;border-left: 1px solid gray;box-sizing: border-box;top: 0;bottom: 0;left: 50%;z-index: 0;}#sk-container-id-2 div.sk-serial {display: flex;flex-direction: column;align-items: center;background-color: white;padding-right: 0.2em;padding-left: 0.2em;position: relative;}#sk-container-id-2 div.sk-item {position: relative;z-index: 1;}#sk-container-id-2 div.sk-parallel {display: flex;align-items: stretch;justify-content: center;background-color: white;position: relative;}#sk-container-id-2 div.sk-item::before, #sk-container-id-2 div.sk-parallel-item::before {content: \"\";position: absolute;border-left: 1px solid gray;box-sizing: border-box;top: 0;bottom: 0;left: 50%;z-index: -1;}#sk-container-id-2 div.sk-parallel-item {display: flex;flex-direction: column;z-index: 1;position: relative;background-color: white;}#sk-container-id-2 div.sk-parallel-item:first-child::after {align-self: flex-end;width: 50%;}#sk-container-id-2 div.sk-parallel-item:last-child::after {align-self: flex-start;width: 50%;}#sk-container-id-2 div.sk-parallel-item:only-child::after {width: 0;}#sk-container-id-2 div.sk-dashed-wrapped {border: 1px dashed gray;margin: 0 0.4em 0.5em 0.4em;box-sizing: border-box;padding-bottom: 0.4em;background-color: white;}#sk-container-id-2 div.sk-label label {font-family: monospace;font-weight: bold;display: inline-block;line-height: 1.2em;}#sk-container-id-2 div.sk-label-container {text-align: center;}#sk-container-id-2 div.sk-container {/* jupyter's `normalize.less` sets `[hidden] { display: none; }` but bootstrap.min.css set `[hidden] { display: none !important; }` so we also need the `!important` here to be able to override the default hidden behavior on the sphinx rendered scikit-learn.org. See: https://github.com/scikit-learn/scikit-learn/issues/21755 */display: inline-block !important;position: relative;}#sk-container-id-2 div.sk-text-repr-fallback {display: none;}</style><div id=\"sk-container-id-2\" class=\"sk-top-container\"><div class=\"sk-text-repr-fallback\"><pre>XGBClassifier(base_score=None, booster=None, callbacks=None,\n",
       "              colsample_bylevel=None, colsample_bynode=None,\n",
       "              colsample_bytree=None, device=None, early_stopping_rounds=None,\n",
       "              enable_categorical=False, eval_metric=None, feature_types=None,\n",
       "              gamma=None, grow_policy=None, importance_type=None,\n",
       "              interaction_constraints=None, learning_rate=0.2319503520076279,\n",
       "              max_bin=None, max_cat_threshold=None, max_cat_to_onehot=None,\n",
       "              max_delta_step=None, max_depth=9, max_leaves=None,\n",
       "              min_child_weight=None, missing=nan, monotone_constraints=None,\n",
       "              multi_strategy=None, n_estimators=400, n_jobs=None,\n",
       "              num_parallel_tree=None, random_state=None, ...)</pre><b>In a Jupyter environment, please rerun this cell to show the HTML representation or trust the notebook. <br />On GitHub, the HTML representation is unable to render, please try loading this page with nbviewer.org.</b></div><div class=\"sk-container\" hidden><div class=\"sk-item\"><div class=\"sk-estimator sk-toggleable\"><input class=\"sk-toggleable__control sk-hidden--visually\" id=\"sk-estimator-id-2\" type=\"checkbox\" checked><label for=\"sk-estimator-id-2\" class=\"sk-toggleable__label sk-toggleable__label-arrow\">XGBClassifier</label><div class=\"sk-toggleable__content\"><pre>XGBClassifier(base_score=None, booster=None, callbacks=None,\n",
       "              colsample_bylevel=None, colsample_bynode=None,\n",
       "              colsample_bytree=None, device=None, early_stopping_rounds=None,\n",
       "              enable_categorical=False, eval_metric=None, feature_types=None,\n",
       "              gamma=None, grow_policy=None, importance_type=None,\n",
       "              interaction_constraints=None, learning_rate=0.2319503520076279,\n",
       "              max_bin=None, max_cat_threshold=None, max_cat_to_onehot=None,\n",
       "              max_delta_step=None, max_depth=9, max_leaves=None,\n",
       "              min_child_weight=None, missing=nan, monotone_constraints=None,\n",
       "              multi_strategy=None, n_estimators=400, n_jobs=None,\n",
       "              num_parallel_tree=None, random_state=None, ...)</pre></div></div></div></div></div>"
      ],
      "text/plain": [
       "XGBClassifier(base_score=None, booster=None, callbacks=None,\n",
       "              colsample_bylevel=None, colsample_bynode=None,\n",
       "              colsample_bytree=None, device=None, early_stopping_rounds=None,\n",
       "              enable_categorical=False, eval_metric=None, feature_types=None,\n",
       "              gamma=None, grow_policy=None, importance_type=None,\n",
       "              interaction_constraints=None, learning_rate=0.2319503520076279,\n",
       "              max_bin=None, max_cat_threshold=None, max_cat_to_onehot=None,\n",
       "              max_delta_step=None, max_depth=9, max_leaves=None,\n",
       "              min_child_weight=None, missing=nan, monotone_constraints=None,\n",
       "              multi_strategy=None, n_estimators=400, n_jobs=None,\n",
       "              num_parallel_tree=None, random_state=None, ...)"
      ]
     },
     "execution_count": 47,
     "metadata": {},
     "output_type": "execute_result"
    }
   ],
   "source": [
    "svm_XGB_best2.fit(X_train,y_train)"
   ]
  },
  {
   "cell_type": "code",
   "execution_count": 49,
   "id": "c6cb1c5b-a410-461d-ad1d-0280d3e71af8",
   "metadata": {},
   "outputs": [
    {
     "data": {
      "text/html": [
       "<style>#sk-container-id-3 {color: black;}#sk-container-id-3 pre{padding: 0;}#sk-container-id-3 div.sk-toggleable {background-color: white;}#sk-container-id-3 label.sk-toggleable__label {cursor: pointer;display: block;width: 100%;margin-bottom: 0;padding: 0.3em;box-sizing: border-box;text-align: center;}#sk-container-id-3 label.sk-toggleable__label-arrow:before {content: \"▸\";float: left;margin-right: 0.25em;color: #696969;}#sk-container-id-3 label.sk-toggleable__label-arrow:hover:before {color: black;}#sk-container-id-3 div.sk-estimator:hover label.sk-toggleable__label-arrow:before {color: black;}#sk-container-id-3 div.sk-toggleable__content {max-height: 0;max-width: 0;overflow: hidden;text-align: left;background-color: #f0f8ff;}#sk-container-id-3 div.sk-toggleable__content pre {margin: 0.2em;color: black;border-radius: 0.25em;background-color: #f0f8ff;}#sk-container-id-3 input.sk-toggleable__control:checked~div.sk-toggleable__content {max-height: 200px;max-width: 100%;overflow: auto;}#sk-container-id-3 input.sk-toggleable__control:checked~label.sk-toggleable__label-arrow:before {content: \"▾\";}#sk-container-id-3 div.sk-estimator input.sk-toggleable__control:checked~label.sk-toggleable__label {background-color: #d4ebff;}#sk-container-id-3 div.sk-label input.sk-toggleable__control:checked~label.sk-toggleable__label {background-color: #d4ebff;}#sk-container-id-3 input.sk-hidden--visually {border: 0;clip: rect(1px 1px 1px 1px);clip: rect(1px, 1px, 1px, 1px);height: 1px;margin: -1px;overflow: hidden;padding: 0;position: absolute;width: 1px;}#sk-container-id-3 div.sk-estimator {font-family: monospace;background-color: #f0f8ff;border: 1px dotted black;border-radius: 0.25em;box-sizing: border-box;margin-bottom: 0.5em;}#sk-container-id-3 div.sk-estimator:hover {background-color: #d4ebff;}#sk-container-id-3 div.sk-parallel-item::after {content: \"\";width: 100%;border-bottom: 1px solid gray;flex-grow: 1;}#sk-container-id-3 div.sk-label:hover label.sk-toggleable__label {background-color: #d4ebff;}#sk-container-id-3 div.sk-serial::before {content: \"\";position: absolute;border-left: 1px solid gray;box-sizing: border-box;top: 0;bottom: 0;left: 50%;z-index: 0;}#sk-container-id-3 div.sk-serial {display: flex;flex-direction: column;align-items: center;background-color: white;padding-right: 0.2em;padding-left: 0.2em;position: relative;}#sk-container-id-3 div.sk-item {position: relative;z-index: 1;}#sk-container-id-3 div.sk-parallel {display: flex;align-items: stretch;justify-content: center;background-color: white;position: relative;}#sk-container-id-3 div.sk-item::before, #sk-container-id-3 div.sk-parallel-item::before {content: \"\";position: absolute;border-left: 1px solid gray;box-sizing: border-box;top: 0;bottom: 0;left: 50%;z-index: -1;}#sk-container-id-3 div.sk-parallel-item {display: flex;flex-direction: column;z-index: 1;position: relative;background-color: white;}#sk-container-id-3 div.sk-parallel-item:first-child::after {align-self: flex-end;width: 50%;}#sk-container-id-3 div.sk-parallel-item:last-child::after {align-self: flex-start;width: 50%;}#sk-container-id-3 div.sk-parallel-item:only-child::after {width: 0;}#sk-container-id-3 div.sk-dashed-wrapped {border: 1px dashed gray;margin: 0 0.4em 0.5em 0.4em;box-sizing: border-box;padding-bottom: 0.4em;background-color: white;}#sk-container-id-3 div.sk-label label {font-family: monospace;font-weight: bold;display: inline-block;line-height: 1.2em;}#sk-container-id-3 div.sk-label-container {text-align: center;}#sk-container-id-3 div.sk-container {/* jupyter's `normalize.less` sets `[hidden] { display: none; }` but bootstrap.min.css set `[hidden] { display: none !important; }` so we also need the `!important` here to be able to override the default hidden behavior on the sphinx rendered scikit-learn.org. See: https://github.com/scikit-learn/scikit-learn/issues/21755 */display: inline-block !important;position: relative;}#sk-container-id-3 div.sk-text-repr-fallback {display: none;}</style><div id=\"sk-container-id-3\" class=\"sk-top-container\"><div class=\"sk-text-repr-fallback\"><pre>XGBClassifier(base_score=None, booster=None, callbacks=None,\n",
       "              colsample_bylevel=None, colsample_bynode=None,\n",
       "              colsample_bytree=None, device=None, early_stopping_rounds=None,\n",
       "              enable_categorical=False, eval_metric=None, feature_types=None,\n",
       "              gamma=None, grow_policy=None, importance_type=None,\n",
       "              interaction_constraints=None, learning_rate=0.015363601183606038,\n",
       "              max_bin=None, max_cat_threshold=None, max_cat_to_onehot=None,\n",
       "              max_delta_step=None, max_depth=6, max_leaves=None,\n",
       "              min_child_weight=None, missing=nan, monotone_constraints=None,\n",
       "              multi_strategy=None, n_estimators=209, n_jobs=None,\n",
       "              num_parallel_tree=None, random_state=None, ...)</pre><b>In a Jupyter environment, please rerun this cell to show the HTML representation or trust the notebook. <br />On GitHub, the HTML representation is unable to render, please try loading this page with nbviewer.org.</b></div><div class=\"sk-container\" hidden><div class=\"sk-item\"><div class=\"sk-estimator sk-toggleable\"><input class=\"sk-toggleable__control sk-hidden--visually\" id=\"sk-estimator-id-3\" type=\"checkbox\" checked><label for=\"sk-estimator-id-3\" class=\"sk-toggleable__label sk-toggleable__label-arrow\">XGBClassifier</label><div class=\"sk-toggleable__content\"><pre>XGBClassifier(base_score=None, booster=None, callbacks=None,\n",
       "              colsample_bylevel=None, colsample_bynode=None,\n",
       "              colsample_bytree=None, device=None, early_stopping_rounds=None,\n",
       "              enable_categorical=False, eval_metric=None, feature_types=None,\n",
       "              gamma=None, grow_policy=None, importance_type=None,\n",
       "              interaction_constraints=None, learning_rate=0.015363601183606038,\n",
       "              max_bin=None, max_cat_threshold=None, max_cat_to_onehot=None,\n",
       "              max_delta_step=None, max_depth=6, max_leaves=None,\n",
       "              min_child_weight=None, missing=nan, monotone_constraints=None,\n",
       "              multi_strategy=None, n_estimators=209, n_jobs=None,\n",
       "              num_parallel_tree=None, random_state=None, ...)</pre></div></div></div></div></div>"
      ],
      "text/plain": [
       "XGBClassifier(base_score=None, booster=None, callbacks=None,\n",
       "              colsample_bylevel=None, colsample_bynode=None,\n",
       "              colsample_bytree=None, device=None, early_stopping_rounds=None,\n",
       "              enable_categorical=False, eval_metric=None, feature_types=None,\n",
       "              gamma=None, grow_policy=None, importance_type=None,\n",
       "              interaction_constraints=None, learning_rate=0.015363601183606038,\n",
       "              max_bin=None, max_cat_threshold=None, max_cat_to_onehot=None,\n",
       "              max_delta_step=None, max_depth=6, max_leaves=None,\n",
       "              min_child_weight=None, missing=nan, monotone_constraints=None,\n",
       "              multi_strategy=None, n_estimators=209, n_jobs=None,\n",
       "              num_parallel_tree=None, random_state=None, ...)"
      ]
     },
     "execution_count": 49,
     "metadata": {},
     "output_type": "execute_result"
    }
   ],
   "source": [
    "grid = {'n_estimators': randint(1, 400),\n",
    "        'max_depth': randint(1, 13),  \n",
    "        'learning_rate': loguniform (0.001, 0.5)\n",
    "        # 'max_leaves' : \n",
    "       }\n",
    "bst = XGBClassifier()\n",
    "# Instantiate Grid Search\n",
    "search = RandomizedSearchCV(\n",
    "    bst,\n",
    "    grid, \n",
    "    scoring='precision',\n",
    "    n_iter=100,  \n",
    "    cv=5, n_jobs=-1\n",
    ")\n",
    "\n",
    "search.fit(X_train, y_train)\n",
    "search.best_estimator_"
   ]
  },
  {
   "cell_type": "code",
   "execution_count": 50,
   "id": "86ec440c-ccd2-4ba6-9a02-815627f65293",
   "metadata": {},
   "outputs": [
    {
     "data": {
      "text/html": [
       "<style>#sk-container-id-4 {color: black;}#sk-container-id-4 pre{padding: 0;}#sk-container-id-4 div.sk-toggleable {background-color: white;}#sk-container-id-4 label.sk-toggleable__label {cursor: pointer;display: block;width: 100%;margin-bottom: 0;padding: 0.3em;box-sizing: border-box;text-align: center;}#sk-container-id-4 label.sk-toggleable__label-arrow:before {content: \"▸\";float: left;margin-right: 0.25em;color: #696969;}#sk-container-id-4 label.sk-toggleable__label-arrow:hover:before {color: black;}#sk-container-id-4 div.sk-estimator:hover label.sk-toggleable__label-arrow:before {color: black;}#sk-container-id-4 div.sk-toggleable__content {max-height: 0;max-width: 0;overflow: hidden;text-align: left;background-color: #f0f8ff;}#sk-container-id-4 div.sk-toggleable__content pre {margin: 0.2em;color: black;border-radius: 0.25em;background-color: #f0f8ff;}#sk-container-id-4 input.sk-toggleable__control:checked~div.sk-toggleable__content {max-height: 200px;max-width: 100%;overflow: auto;}#sk-container-id-4 input.sk-toggleable__control:checked~label.sk-toggleable__label-arrow:before {content: \"▾\";}#sk-container-id-4 div.sk-estimator input.sk-toggleable__control:checked~label.sk-toggleable__label {background-color: #d4ebff;}#sk-container-id-4 div.sk-label input.sk-toggleable__control:checked~label.sk-toggleable__label {background-color: #d4ebff;}#sk-container-id-4 input.sk-hidden--visually {border: 0;clip: rect(1px 1px 1px 1px);clip: rect(1px, 1px, 1px, 1px);height: 1px;margin: -1px;overflow: hidden;padding: 0;position: absolute;width: 1px;}#sk-container-id-4 div.sk-estimator {font-family: monospace;background-color: #f0f8ff;border: 1px dotted black;border-radius: 0.25em;box-sizing: border-box;margin-bottom: 0.5em;}#sk-container-id-4 div.sk-estimator:hover {background-color: #d4ebff;}#sk-container-id-4 div.sk-parallel-item::after {content: \"\";width: 100%;border-bottom: 1px solid gray;flex-grow: 1;}#sk-container-id-4 div.sk-label:hover label.sk-toggleable__label {background-color: #d4ebff;}#sk-container-id-4 div.sk-serial::before {content: \"\";position: absolute;border-left: 1px solid gray;box-sizing: border-box;top: 0;bottom: 0;left: 50%;z-index: 0;}#sk-container-id-4 div.sk-serial {display: flex;flex-direction: column;align-items: center;background-color: white;padding-right: 0.2em;padding-left: 0.2em;position: relative;}#sk-container-id-4 div.sk-item {position: relative;z-index: 1;}#sk-container-id-4 div.sk-parallel {display: flex;align-items: stretch;justify-content: center;background-color: white;position: relative;}#sk-container-id-4 div.sk-item::before, #sk-container-id-4 div.sk-parallel-item::before {content: \"\";position: absolute;border-left: 1px solid gray;box-sizing: border-box;top: 0;bottom: 0;left: 50%;z-index: -1;}#sk-container-id-4 div.sk-parallel-item {display: flex;flex-direction: column;z-index: 1;position: relative;background-color: white;}#sk-container-id-4 div.sk-parallel-item:first-child::after {align-self: flex-end;width: 50%;}#sk-container-id-4 div.sk-parallel-item:last-child::after {align-self: flex-start;width: 50%;}#sk-container-id-4 div.sk-parallel-item:only-child::after {width: 0;}#sk-container-id-4 div.sk-dashed-wrapped {border: 1px dashed gray;margin: 0 0.4em 0.5em 0.4em;box-sizing: border-box;padding-bottom: 0.4em;background-color: white;}#sk-container-id-4 div.sk-label label {font-family: monospace;font-weight: bold;display: inline-block;line-height: 1.2em;}#sk-container-id-4 div.sk-label-container {text-align: center;}#sk-container-id-4 div.sk-container {/* jupyter's `normalize.less` sets `[hidden] { display: none; }` but bootstrap.min.css set `[hidden] { display: none !important; }` so we also need the `!important` here to be able to override the default hidden behavior on the sphinx rendered scikit-learn.org. See: https://github.com/scikit-learn/scikit-learn/issues/21755 */display: inline-block !important;position: relative;}#sk-container-id-4 div.sk-text-repr-fallback {display: none;}</style><div id=\"sk-container-id-4\" class=\"sk-top-container\"><div class=\"sk-text-repr-fallback\"><pre>XGBClassifier(base_score=None, booster=None, callbacks=None,\n",
       "              colsample_bylevel=None, colsample_bynode=None,\n",
       "              colsample_bytree=None, device=None, early_stopping_rounds=None,\n",
       "              enable_categorical=False, eval_metric=None, feature_types=None,\n",
       "              gamma=None, grow_policy=None, importance_type=None,\n",
       "              interaction_constraints=None, learning_rate=0.015363601183606038,\n",
       "              max_bin=None, max_cat_threshold=None, max_cat_to_onehot=None,\n",
       "              max_delta_step=None, max_depth=6, max_leaves=None,\n",
       "              min_child_weight=None, missing=nan, monotone_constraints=None,\n",
       "              multi_strategy=None, n_estimators=300, n_jobs=None,\n",
       "              num_parallel_tree=None, random_state=None, ...)</pre><b>In a Jupyter environment, please rerun this cell to show the HTML representation or trust the notebook. <br />On GitHub, the HTML representation is unable to render, please try loading this page with nbviewer.org.</b></div><div class=\"sk-container\" hidden><div class=\"sk-item\"><div class=\"sk-estimator sk-toggleable\"><input class=\"sk-toggleable__control sk-hidden--visually\" id=\"sk-estimator-id-4\" type=\"checkbox\" checked><label for=\"sk-estimator-id-4\" class=\"sk-toggleable__label sk-toggleable__label-arrow\">XGBClassifier</label><div class=\"sk-toggleable__content\"><pre>XGBClassifier(base_score=None, booster=None, callbacks=None,\n",
       "              colsample_bylevel=None, colsample_bynode=None,\n",
       "              colsample_bytree=None, device=None, early_stopping_rounds=None,\n",
       "              enable_categorical=False, eval_metric=None, feature_types=None,\n",
       "              gamma=None, grow_policy=None, importance_type=None,\n",
       "              interaction_constraints=None, learning_rate=0.015363601183606038,\n",
       "              max_bin=None, max_cat_threshold=None, max_cat_to_onehot=None,\n",
       "              max_delta_step=None, max_depth=6, max_leaves=None,\n",
       "              min_child_weight=None, missing=nan, monotone_constraints=None,\n",
       "              multi_strategy=None, n_estimators=300, n_jobs=None,\n",
       "              num_parallel_tree=None, random_state=None, ...)</pre></div></div></div></div></div>"
      ],
      "text/plain": [
       "XGBClassifier(base_score=None, booster=None, callbacks=None,\n",
       "              colsample_bylevel=None, colsample_bynode=None,\n",
       "              colsample_bytree=None, device=None, early_stopping_rounds=None,\n",
       "              enable_categorical=False, eval_metric=None, feature_types=None,\n",
       "              gamma=None, grow_policy=None, importance_type=None,\n",
       "              interaction_constraints=None, learning_rate=0.015363601183606038,\n",
       "              max_bin=None, max_cat_threshold=None, max_cat_to_onehot=None,\n",
       "              max_delta_step=None, max_depth=6, max_leaves=None,\n",
       "              min_child_weight=None, missing=nan, monotone_constraints=None,\n",
       "              multi_strategy=None, n_estimators=300, n_jobs=None,\n",
       "              num_parallel_tree=None, random_state=None, ...)"
      ]
     },
     "execution_count": 50,
     "metadata": {},
     "output_type": "execute_result"
    }
   ],
   "source": [
    "grid = {'n_estimators': [200,209,300,350,400],\n",
    "        'max_depth': range(5,8),  \n",
    "        'learning_rate': [0.015363601183606038, 0.02, 0.2]\n",
    "       }\n",
    "bst = XGBClassifier()\n",
    "# # Instantiate Grid Search\n",
    "search = GridSearchCV(\n",
    "     bst,\n",
    "     grid, \n",
    "     scoring='precision',\n",
    "     cv=5, n_jobs=-1\n",
    ")\n",
    "search.fit(X_train, y_train)\n",
    "search.best_estimator_"
   ]
  },
  {
   "cell_type": "raw",
   "id": "55b74ec3-f920-4d19-8bb3-08de76496463",
   "metadata": {},
   "source": [
    "XGBClassifier(base_score=None, booster=None, callbacks=None,\n",
    "              colsample_bylevel=None, colsample_bynode=None,\n",
    "              colsample_bytree=None, device=None, early_stopping_rounds=None,\n",
    "              enable_categorical=False, eval_metric=None, feature_types=None,\n",
    "              gamma=None, grow_policy=None, importance_type=None,\n",
    "              interaction_constraints=None, learning_rate=0.015363601183606038,\n",
    "              max_bin=None, max_cat_threshold=None, max_cat_to_onehot=None,\n",
    "              max_delta_step=None, max_depth=6, max_leaves=None,\n",
    "              min_child_weight=None, missing=nan, monotone_constraints=None,\n",
    "              multi_strategy=None, n_estimators=300, n_jobs=None,\n",
    "              num_parallel_tree=None, random_state=None, ...)"
   ]
  },
  {
   "cell_type": "code",
   "execution_count": 54,
   "id": "35440a80-8579-45ff-a0c9-4473ec80e047",
   "metadata": {},
   "outputs": [],
   "source": [
    "svm_XGB_best2 = search.best_estimator_"
   ]
  },
  {
   "cell_type": "code",
   "execution_count": 56,
   "id": "20258e42-b763-426e-89df-9fb904bb8a59",
   "metadata": {},
   "outputs": [
    {
     "data": {
      "text/html": [
       "<style>#sk-container-id-5 {color: black;}#sk-container-id-5 pre{padding: 0;}#sk-container-id-5 div.sk-toggleable {background-color: white;}#sk-container-id-5 label.sk-toggleable__label {cursor: pointer;display: block;width: 100%;margin-bottom: 0;padding: 0.3em;box-sizing: border-box;text-align: center;}#sk-container-id-5 label.sk-toggleable__label-arrow:before {content: \"▸\";float: left;margin-right: 0.25em;color: #696969;}#sk-container-id-5 label.sk-toggleable__label-arrow:hover:before {color: black;}#sk-container-id-5 div.sk-estimator:hover label.sk-toggleable__label-arrow:before {color: black;}#sk-container-id-5 div.sk-toggleable__content {max-height: 0;max-width: 0;overflow: hidden;text-align: left;background-color: #f0f8ff;}#sk-container-id-5 div.sk-toggleable__content pre {margin: 0.2em;color: black;border-radius: 0.25em;background-color: #f0f8ff;}#sk-container-id-5 input.sk-toggleable__control:checked~div.sk-toggleable__content {max-height: 200px;max-width: 100%;overflow: auto;}#sk-container-id-5 input.sk-toggleable__control:checked~label.sk-toggleable__label-arrow:before {content: \"▾\";}#sk-container-id-5 div.sk-estimator input.sk-toggleable__control:checked~label.sk-toggleable__label {background-color: #d4ebff;}#sk-container-id-5 div.sk-label input.sk-toggleable__control:checked~label.sk-toggleable__label {background-color: #d4ebff;}#sk-container-id-5 input.sk-hidden--visually {border: 0;clip: rect(1px 1px 1px 1px);clip: rect(1px, 1px, 1px, 1px);height: 1px;margin: -1px;overflow: hidden;padding: 0;position: absolute;width: 1px;}#sk-container-id-5 div.sk-estimator {font-family: monospace;background-color: #f0f8ff;border: 1px dotted black;border-radius: 0.25em;box-sizing: border-box;margin-bottom: 0.5em;}#sk-container-id-5 div.sk-estimator:hover {background-color: #d4ebff;}#sk-container-id-5 div.sk-parallel-item::after {content: \"\";width: 100%;border-bottom: 1px solid gray;flex-grow: 1;}#sk-container-id-5 div.sk-label:hover label.sk-toggleable__label {background-color: #d4ebff;}#sk-container-id-5 div.sk-serial::before {content: \"\";position: absolute;border-left: 1px solid gray;box-sizing: border-box;top: 0;bottom: 0;left: 50%;z-index: 0;}#sk-container-id-5 div.sk-serial {display: flex;flex-direction: column;align-items: center;background-color: white;padding-right: 0.2em;padding-left: 0.2em;position: relative;}#sk-container-id-5 div.sk-item {position: relative;z-index: 1;}#sk-container-id-5 div.sk-parallel {display: flex;align-items: stretch;justify-content: center;background-color: white;position: relative;}#sk-container-id-5 div.sk-item::before, #sk-container-id-5 div.sk-parallel-item::before {content: \"\";position: absolute;border-left: 1px solid gray;box-sizing: border-box;top: 0;bottom: 0;left: 50%;z-index: -1;}#sk-container-id-5 div.sk-parallel-item {display: flex;flex-direction: column;z-index: 1;position: relative;background-color: white;}#sk-container-id-5 div.sk-parallel-item:first-child::after {align-self: flex-end;width: 50%;}#sk-container-id-5 div.sk-parallel-item:last-child::after {align-self: flex-start;width: 50%;}#sk-container-id-5 div.sk-parallel-item:only-child::after {width: 0;}#sk-container-id-5 div.sk-dashed-wrapped {border: 1px dashed gray;margin: 0 0.4em 0.5em 0.4em;box-sizing: border-box;padding-bottom: 0.4em;background-color: white;}#sk-container-id-5 div.sk-label label {font-family: monospace;font-weight: bold;display: inline-block;line-height: 1.2em;}#sk-container-id-5 div.sk-label-container {text-align: center;}#sk-container-id-5 div.sk-container {/* jupyter's `normalize.less` sets `[hidden] { display: none; }` but bootstrap.min.css set `[hidden] { display: none !important; }` so we also need the `!important` here to be able to override the default hidden behavior on the sphinx rendered scikit-learn.org. See: https://github.com/scikit-learn/scikit-learn/issues/21755 */display: inline-block !important;position: relative;}#sk-container-id-5 div.sk-text-repr-fallback {display: none;}</style><div id=\"sk-container-id-5\" class=\"sk-top-container\"><div class=\"sk-text-repr-fallback\"><pre>XGBClassifier(base_score=None, booster=None, callbacks=None,\n",
       "              colsample_bylevel=None, colsample_bynode=None,\n",
       "              colsample_bytree=None, device=None, early_stopping_rounds=None,\n",
       "              enable_categorical=False, eval_metric=None, feature_types=None,\n",
       "              gamma=None, grow_policy=None, importance_type=None,\n",
       "              interaction_constraints=None, learning_rate=0.015363601183606038,\n",
       "              max_bin=None, max_cat_threshold=None, max_cat_to_onehot=None,\n",
       "              max_delta_step=None, max_depth=6, max_leaves=None,\n",
       "              min_child_weight=None, missing=nan, monotone_constraints=None,\n",
       "              multi_strategy=None, n_estimators=300, n_jobs=None,\n",
       "              num_parallel_tree=None, random_state=None, ...)</pre><b>In a Jupyter environment, please rerun this cell to show the HTML representation or trust the notebook. <br />On GitHub, the HTML representation is unable to render, please try loading this page with nbviewer.org.</b></div><div class=\"sk-container\" hidden><div class=\"sk-item\"><div class=\"sk-estimator sk-toggleable\"><input class=\"sk-toggleable__control sk-hidden--visually\" id=\"sk-estimator-id-5\" type=\"checkbox\" checked><label for=\"sk-estimator-id-5\" class=\"sk-toggleable__label sk-toggleable__label-arrow\">XGBClassifier</label><div class=\"sk-toggleable__content\"><pre>XGBClassifier(base_score=None, booster=None, callbacks=None,\n",
       "              colsample_bylevel=None, colsample_bynode=None,\n",
       "              colsample_bytree=None, device=None, early_stopping_rounds=None,\n",
       "              enable_categorical=False, eval_metric=None, feature_types=None,\n",
       "              gamma=None, grow_policy=None, importance_type=None,\n",
       "              interaction_constraints=None, learning_rate=0.015363601183606038,\n",
       "              max_bin=None, max_cat_threshold=None, max_cat_to_onehot=None,\n",
       "              max_delta_step=None, max_depth=6, max_leaves=None,\n",
       "              min_child_weight=None, missing=nan, monotone_constraints=None,\n",
       "              multi_strategy=None, n_estimators=300, n_jobs=None,\n",
       "              num_parallel_tree=None, random_state=None, ...)</pre></div></div></div></div></div>"
      ],
      "text/plain": [
       "XGBClassifier(base_score=None, booster=None, callbacks=None,\n",
       "              colsample_bylevel=None, colsample_bynode=None,\n",
       "              colsample_bytree=None, device=None, early_stopping_rounds=None,\n",
       "              enable_categorical=False, eval_metric=None, feature_types=None,\n",
       "              gamma=None, grow_policy=None, importance_type=None,\n",
       "              interaction_constraints=None, learning_rate=0.015363601183606038,\n",
       "              max_bin=None, max_cat_threshold=None, max_cat_to_onehot=None,\n",
       "              max_delta_step=None, max_depth=6, max_leaves=None,\n",
       "              min_child_weight=None, missing=nan, monotone_constraints=None,\n",
       "              multi_strategy=None, n_estimators=300, n_jobs=None,\n",
       "              num_parallel_tree=None, random_state=None, ...)"
      ]
     },
     "execution_count": 56,
     "metadata": {},
     "output_type": "execute_result"
    }
   ],
   "source": [
    "svm_XGB_best2.fit(X_train,y_train)"
   ]
  },
  {
   "cell_type": "code",
   "execution_count": 60,
   "id": "2807fbaf-3600-4e29-965b-b29d92c94fc5",
   "metadata": {},
   "outputs": [
    {
     "data": {
      "text/plain": [
       "0.6680163954788225"
      ]
     },
     "execution_count": 60,
     "metadata": {},
     "output_type": "execute_result"
    }
   ],
   "source": [
    "y_pred = svm_XGB_best2.predict(X_test)\n",
    "\n",
    "accuracy_score(y_test, y_pred)"
   ]
  },
  {
   "cell_type": "code",
   "execution_count": 61,
   "id": "367a8b7b-82a3-4d97-9553-946eca5dd837",
   "metadata": {},
   "outputs": [
    {
     "name": "stdout",
     "output_type": "stream",
     "text": [
      "Real Taylor :  0.0\n",
      "Fake Biden :  0.975\n",
      "Real Biden :  0.9722222222222222\n",
      "Real Elise :  0.043478260869565216\n",
      "Real Youss_1 :  0.0\n",
      "Real Youss_2 :  0.03333333333333333\n",
      "Fake Youss_1 :  1.0\n",
      "Fake Youss_2 :  1.0\n",
      "Fake Youss_3 :  0.9666666666666667\n",
      "Fake Morgan :  0.9523809523809523\n",
      "Real Morgan :  0.022988505747126436\n"
     ]
    }
   ],
   "source": [
    "test_model(svm_XGB_best2)"
   ]
  },
  {
   "cell_type": "code",
   "execution_count": 59,
   "id": "2669cc12-a965-4138-8044-8e56c20fe187",
   "metadata": {},
   "outputs": [
    {
     "data": {
      "text/plain": [
       "Index(['chroma_stft', 'rms', 'spectral_centroid', 'spectral_bandwidth',\n",
       "       'rolloff', 'zero_crossing_rate', 'mfcc1', 'mfcc2', 'mfcc3', 'mfcc4',\n",
       "       'mfcc5', 'mfcc6', 'mfcc7', 'mfcc8', 'mfcc9', 'mfcc10', 'mfcc11',\n",
       "       'mfcc12', 'mfcc13', 'mfcc14', 'mfcc15', 'mfcc16', 'mfcc17', 'mfcc18',\n",
       "       'mfcc19', 'mfcc20', 'LABEL'],\n",
       "      dtype='object')"
      ]
     },
     "execution_count": 59,
     "metadata": {},
     "output_type": "execute_result"
    }
   ],
   "source": [
    "full_df.columns"
   ]
  },
  {
   "cell_type": "code",
   "execution_count": 95,
   "id": "7c174399-5331-4638-acf0-0987faa23f80",
   "metadata": {},
   "outputs": [
    {
     "data": {
      "text/plain": [
       "['models/XGB_test_no_ASVC']"
      ]
     },
     "execution_count": 95,
     "metadata": {},
     "output_type": "execute_result"
    }
   ],
   "source": [
    "import joblib\n",
    "filename = 'XGB_test'\n",
    "joblib.dump(svm_XGB_best2,f'models/{filename}_no_ASVC')\n"
   ]
  },
  {
   "cell_type": "markdown",
   "id": "bfb8dc8d-bc40-4b3e-8f0f-9de9a28439b0",
   "metadata": {},
   "source": [
    "### Teapot without ASVC data"
   ]
  },
  {
   "cell_type": "code",
   "execution_count": 96,
   "id": "6a61e400-b7d7-4b94-9fb6-d28ef8d096f4",
   "metadata": {},
   "outputs": [],
   "source": [
    "complete_df= pd.read_csv('Data/New_features.csv')\n",
    "elise_df = pd.read_csv('Data/additional_data_elise.csv')\n",
    "youss_df = pd.read_csv('Data/Extra_features.csv')\n",
    "elise_df = elise_df[elise_df.columns[1:]]\n",
    "elise_df['LABEL'] = 'REAL'\n",
    "full_df = pd.concat([complete_df,elise_df,youss_df])"
   ]
  },
  {
   "cell_type": "code",
   "execution_count": 100,
   "id": "e612f23a-d58a-45ea-9b7b-e8e00821dff9",
   "metadata": {},
   "outputs": [],
   "source": [
    "pipeline_optimizer = TPOTClassifier(n_jobs=-1,warm_start=True,verbosity=2)\n"
   ]
  },
  {
   "cell_type": "code",
   "execution_count": 101,
   "id": "f7f37293-00ca-4ed8-810a-74f59c63ae05",
   "metadata": {},
   "outputs": [],
   "source": [
    "X_train, X_test, y_train, y_test = get_train_test(full_df)"
   ]
  },
  {
   "cell_type": "code",
   "execution_count": 102,
   "id": "590074b0-f10b-462d-8673-d5381b0ec4e9",
   "metadata": {},
   "outputs": [
    {
     "data": {
      "application/vnd.jupyter.widget-view+json": {
       "model_id": "b123f477e1104465aa4d17c930b3a82b",
       "version_major": 2,
       "version_minor": 0
      },
      "text/plain": [
       "Optimization Progress:   0%|          | 0/10100 [00:00<?, ?pipeline/s]"
      ]
     },
     "metadata": {},
     "output_type": "display_data"
    },
    {
     "name": "stdout",
     "output_type": "stream",
     "text": [
      "\n",
      "Generation 1 - Current best internal CV score: 0.9526206671869198\n",
      "\n",
      "Generation 2 - Current best internal CV score: 0.9526206671869198\n",
      "\n",
      "Generation 3 - Current best internal CV score: 0.9526206671869198\n",
      "\n",
      "Generation 4 - Current best internal CV score: 0.9550931228075493\n",
      "\n",
      "Generation 5 - Current best internal CV score: 0.9550931228075493\n",
      "\n",
      "Generation 6 - Current best internal CV score: 0.9550931228075493\n",
      "\n",
      "Generation 7 - Current best internal CV score: 0.9550931228075493\n",
      "\n",
      "Generation 8 - Current best internal CV score: 0.9550931228075493\n",
      "\n",
      "Generation 9 - Current best internal CV score: 0.9550931228075493\n",
      "\n",
      "Generation 10 - Current best internal CV score: 0.9571608011900162\n",
      "\n",
      "Generation 11 - Current best internal CV score: 0.9571608011900162\n",
      "\n",
      "Generation 12 - Current best internal CV score: 0.9571608011900162\n",
      "\n",
      "Generation 13 - Current best internal CV score: 0.9571608011900162\n",
      "\n",
      "Generation 14 - Current best internal CV score: 0.9571608011900162\n",
      "\n",
      "Generation 15 - Current best internal CV score: 0.9571608011900162\n",
      "\n",
      "Generation 16 - Current best internal CV score: 0.9571608011900162\n",
      "\n",
      "Generation 17 - Current best internal CV score: 0.958778839330136\n",
      "\n",
      "Generation 18 - Current best internal CV score: 0.958778839330136\n",
      "\n",
      "Generation 19 - Current best internal CV score: 0.9591834448342136\n",
      "\n",
      "Generation 20 - Current best internal CV score: 0.9598129310714943\n",
      "\n",
      "Generation 21 - Current best internal CV score: 0.9602623288657217\n",
      "\n",
      "Generation 22 - Current best internal CV score: 0.9621952465015493\n",
      "\n",
      "Generation 23 - Current best internal CV score: 0.9621952465015493\n",
      "\n",
      "Generation 24 - Current best internal CV score: 0.9621952465015493\n",
      "\n",
      "Generation 25 - Current best internal CV score: 0.9621952465015493\n",
      "\n",
      "Generation 26 - Current best internal CV score: 0.9621952465015493\n",
      "\n",
      "Generation 27 - Current best internal CV score: 0.9621952465015493\n",
      "\n",
      "Generation 28 - Current best internal CV score: 0.9625550799194871\n",
      "\n",
      "Generation 29 - Current best internal CV score: 0.9628695553349951\n",
      "\n",
      "Generation 30 - Current best internal CV score: 0.9628695553349951\n",
      "\n",
      "Generation 31 - Current best internal CV score: 0.9628695553349951\n",
      "\n",
      "Generation 32 - Current best internal CV score: 0.9628695553349951\n",
      "\n",
      "Generation 33 - Current best internal CV score: 0.9638135270897893\n",
      "\n",
      "Generation 34 - Current best internal CV score: 0.9638135270897893\n",
      "\n",
      "Generation 35 - Current best internal CV score: 0.9638135270897893\n",
      "\n",
      "Generation 36 - Current best internal CV score: 0.9638135270897893\n",
      "\n",
      "Generation 37 - Current best internal CV score: 0.9638135270897893\n",
      "\n",
      "Generation 38 - Current best internal CV score: 0.9638135877018191\n",
      "\n",
      "Generation 39 - Current best internal CV score: 0.9638135877018191\n",
      "\n",
      "Generation 40 - Current best internal CV score: 0.9640833112351974\n",
      "\n",
      "Generation 41 - Current best internal CV score: 0.9640833112351974\n",
      "\n",
      "Generation 42 - Current best internal CV score: 0.9640833112351974\n",
      "\n",
      "Generation 43 - Current best internal CV score: 0.9643530650745907\n",
      "\n",
      "Generation 44 - Current best internal CV score: 0.9643530650745907\n",
      "\n",
      "Generation 45 - Current best internal CV score: 0.9649823189657567\n",
      "\n",
      "Generation 46 - Current best internal CV score: 0.9649823189657567\n",
      "\n",
      "Generation 47 - Current best internal CV score: 0.9649823189657567\n",
      "\n",
      "Generation 48 - Current best internal CV score: 0.9649823189657567\n",
      "\n",
      "Generation 49 - Current best internal CV score: 0.9649823189657567\n",
      "\n",
      "Generation 50 - Current best internal CV score: 0.9649823189657567\n",
      "\n",
      "Generation 51 - Current best internal CV score: 0.9649823189657567\n",
      "\n",
      "Generation 52 - Current best internal CV score: 0.9650722167082112\n",
      "\n",
      "Generation 53 - Current best internal CV score: 0.9650722167082112\n",
      "\n",
      "Generation 54 - Current best internal CV score: 0.9650722167082112\n",
      "\n",
      "Generation 55 - Current best internal CV score: 0.9652521637231949\n",
      "\n",
      "Generation 56 - Current best internal CV score: 0.9653419503435945\n",
      "\n",
      "Generation 57 - Current best internal CV score: 0.9653419503435945\n",
      "\n",
      "Generation 58 - Current best internal CV score: 0.9653419503435945\n",
      "\n",
      "Generation 59 - Current best internal CV score: 0.9653419503435945\n",
      "\n",
      "Generation 60 - Current best internal CV score: 0.9653419503435945\n",
      "\n",
      "Generation 61 - Current best internal CV score: 0.9653419503435945\n",
      "\n",
      "Generation 62 - Current best internal CV score: 0.965386964877854\n",
      "\n",
      "Generation 63 - Current best internal CV score: 0.965386964877854\n",
      "\n",
      "Generation 64 - Current best internal CV score: 0.9657915703819315\n",
      "\n",
      "Generation 65 - Current best internal CV score: 0.9657915703819315\n",
      "\n",
      "Generation 66 - Current best internal CV score: 0.9661062377355346\n",
      "\n",
      "Generation 67 - Current best internal CV score: 0.9661062377355346\n",
      "\n",
      "Generation 68 - Current best internal CV score: 0.9661062377355346\n",
      "\n",
      "Generation 69 - Current best internal CV score: 0.9661062377355346\n",
      "\n",
      "Generation 70 - Current best internal CV score: 0.9661062377355346\n",
      "\n",
      "Generation 71 - Current best internal CV score: 0.9661062377355346\n",
      "\n",
      "Generation 72 - Current best internal CV score: 0.9661062377355346\n",
      "\n",
      "\n",
      "TPOT closed during evaluation in one generation.\n",
      "WARNING: TPOT may not provide a good pipeline if TPOT is stopped/interrupted in a early generation.\n",
      "\n",
      "\n",
      "TPOT closed prematurely. Will use the current best pipeline.\n",
      "\n",
      "Best pipeline: KNeighborsClassifier(MLPClassifier(FastICA(FastICA(input_matrix, tol=0.55), tol=0.45), alpha=0.1, learning_rate_init=0.01), n_neighbors=4, p=2, weights=distance)\n"
     ]
    },
    {
     "data": {
      "text/html": [
       "<style>#sk-container-id-6 {color: black;}#sk-container-id-6 pre{padding: 0;}#sk-container-id-6 div.sk-toggleable {background-color: white;}#sk-container-id-6 label.sk-toggleable__label {cursor: pointer;display: block;width: 100%;margin-bottom: 0;padding: 0.3em;box-sizing: border-box;text-align: center;}#sk-container-id-6 label.sk-toggleable__label-arrow:before {content: \"▸\";float: left;margin-right: 0.25em;color: #696969;}#sk-container-id-6 label.sk-toggleable__label-arrow:hover:before {color: black;}#sk-container-id-6 div.sk-estimator:hover label.sk-toggleable__label-arrow:before {color: black;}#sk-container-id-6 div.sk-toggleable__content {max-height: 0;max-width: 0;overflow: hidden;text-align: left;background-color: #f0f8ff;}#sk-container-id-6 div.sk-toggleable__content pre {margin: 0.2em;color: black;border-radius: 0.25em;background-color: #f0f8ff;}#sk-container-id-6 input.sk-toggleable__control:checked~div.sk-toggleable__content {max-height: 200px;max-width: 100%;overflow: auto;}#sk-container-id-6 input.sk-toggleable__control:checked~label.sk-toggleable__label-arrow:before {content: \"▾\";}#sk-container-id-6 div.sk-estimator input.sk-toggleable__control:checked~label.sk-toggleable__label {background-color: #d4ebff;}#sk-container-id-6 div.sk-label input.sk-toggleable__control:checked~label.sk-toggleable__label {background-color: #d4ebff;}#sk-container-id-6 input.sk-hidden--visually {border: 0;clip: rect(1px 1px 1px 1px);clip: rect(1px, 1px, 1px, 1px);height: 1px;margin: -1px;overflow: hidden;padding: 0;position: absolute;width: 1px;}#sk-container-id-6 div.sk-estimator {font-family: monospace;background-color: #f0f8ff;border: 1px dotted black;border-radius: 0.25em;box-sizing: border-box;margin-bottom: 0.5em;}#sk-container-id-6 div.sk-estimator:hover {background-color: #d4ebff;}#sk-container-id-6 div.sk-parallel-item::after {content: \"\";width: 100%;border-bottom: 1px solid gray;flex-grow: 1;}#sk-container-id-6 div.sk-label:hover label.sk-toggleable__label {background-color: #d4ebff;}#sk-container-id-6 div.sk-serial::before {content: \"\";position: absolute;border-left: 1px solid gray;box-sizing: border-box;top: 0;bottom: 0;left: 50%;z-index: 0;}#sk-container-id-6 div.sk-serial {display: flex;flex-direction: column;align-items: center;background-color: white;padding-right: 0.2em;padding-left: 0.2em;position: relative;}#sk-container-id-6 div.sk-item {position: relative;z-index: 1;}#sk-container-id-6 div.sk-parallel {display: flex;align-items: stretch;justify-content: center;background-color: white;position: relative;}#sk-container-id-6 div.sk-item::before, #sk-container-id-6 div.sk-parallel-item::before {content: \"\";position: absolute;border-left: 1px solid gray;box-sizing: border-box;top: 0;bottom: 0;left: 50%;z-index: -1;}#sk-container-id-6 div.sk-parallel-item {display: flex;flex-direction: column;z-index: 1;position: relative;background-color: white;}#sk-container-id-6 div.sk-parallel-item:first-child::after {align-self: flex-end;width: 50%;}#sk-container-id-6 div.sk-parallel-item:last-child::after {align-self: flex-start;width: 50%;}#sk-container-id-6 div.sk-parallel-item:only-child::after {width: 0;}#sk-container-id-6 div.sk-dashed-wrapped {border: 1px dashed gray;margin: 0 0.4em 0.5em 0.4em;box-sizing: border-box;padding-bottom: 0.4em;background-color: white;}#sk-container-id-6 div.sk-label label {font-family: monospace;font-weight: bold;display: inline-block;line-height: 1.2em;}#sk-container-id-6 div.sk-label-container {text-align: center;}#sk-container-id-6 div.sk-container {/* jupyter's `normalize.less` sets `[hidden] { display: none; }` but bootstrap.min.css set `[hidden] { display: none !important; }` so we also need the `!important` here to be able to override the default hidden behavior on the sphinx rendered scikit-learn.org. See: https://github.com/scikit-learn/scikit-learn/issues/21755 */display: inline-block !important;position: relative;}#sk-container-id-6 div.sk-text-repr-fallback {display: none;}</style><div id=\"sk-container-id-6\" class=\"sk-top-container\"><div class=\"sk-text-repr-fallback\"><pre>TPOTClassifier(n_jobs=-1, verbosity=2, warm_start=True)</pre><b>In a Jupyter environment, please rerun this cell to show the HTML representation or trust the notebook. <br />On GitHub, the HTML representation is unable to render, please try loading this page with nbviewer.org.</b></div><div class=\"sk-container\" hidden><div class=\"sk-item\"><div class=\"sk-estimator sk-toggleable\"><input class=\"sk-toggleable__control sk-hidden--visually\" id=\"sk-estimator-id-6\" type=\"checkbox\" checked><label for=\"sk-estimator-id-6\" class=\"sk-toggleable__label sk-toggleable__label-arrow\">TPOTClassifier</label><div class=\"sk-toggleable__content\"><pre>TPOTClassifier(n_jobs=-1, verbosity=2, warm_start=True)</pre></div></div></div></div></div>"
      ],
      "text/plain": [
       "TPOTClassifier(n_jobs=-1, verbosity=2, warm_start=True)"
      ]
     },
     "execution_count": 102,
     "metadata": {},
     "output_type": "execute_result"
    }
   ],
   "source": [
    "pipeline_optimizer.fit(X_train, y_train)"
   ]
  },
  {
   "cell_type": "code",
   "execution_count": 103,
   "id": "b36b6bca-6486-4c9e-8fc0-cc689a699604",
   "metadata": {},
   "outputs": [
    {
     "name": "stdout",
     "output_type": "stream",
     "text": [
      "0.9729130365911611\n"
     ]
    }
   ],
   "source": [
    "print(pipeline_optimizer.score(X_test, y_test))\n"
   ]
  },
  {
   "cell_type": "code",
   "execution_count": 104,
   "id": "657bd0d3-5092-4e89-bf1c-f318cd921ba6",
   "metadata": {},
   "outputs": [],
   "source": [
    "pipeline_optimizer.export('tpot_exported_pipeline_no_asvc.py')\n"
   ]
  },
  {
   "cell_type": "code",
   "execution_count": 105,
   "id": "8ba5e9d0-3863-4a61-bd2a-135b846357a2",
   "metadata": {},
   "outputs": [],
   "source": [
    "import pickle\n",
    "with open('./test_tpot_notebook_withoutLA.pkl','wb') as f:\n",
    "    pickle.dump(pipeline_optimizer.fitted_pipeline_, f)"
   ]
  }
 ],
 "metadata": {
  "environment": {
   "kernel": "python3",
   "name": "tf2-cpu.2-11.m113",
   "type": "gcloud",
   "uri": "gcr.io/deeplearning-platform-release/tf2-cpu.2-11:m113"
  },
  "kernelspec": {
   "display_name": "Python 3 (ipykernel)",
   "language": "python",
   "name": "python3"
  },
  "language_info": {
   "codemirror_mode": {
    "name": "ipython",
    "version": 3
   },
   "file_extension": ".py",
   "mimetype": "text/x-python",
   "name": "python",
   "nbconvert_exporter": "python",
   "pygments_lexer": "ipython3",
   "version": "3.10.6"
  }
 },
 "nbformat": 4,
 "nbformat_minor": 5
}

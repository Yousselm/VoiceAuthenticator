{
 "cells": [
  {
   "cell_type": "code",
   "execution_count": 14,
   "metadata": {},
   "outputs": [],
   "source": [
    "import pandas as pd\n",
    "import numpy as np \n",
    "import os\n",
    "from xgboost import XGBClassifier\n",
    "from sklearn.model_selection import train_test_split, cross_val_score, GridSearchCV, RandomizedSearchCV\n",
    "from sklearn.preprocessing import LabelEncoder\n",
    "from sklearn.metrics import accuracy_score, f1_score, recall_score, precision_score, auc\n",
    "from sklearn.ensemble import RandomForestClassifier\n",
    "import time\n",
    "from joblib import Parallel, delayed\n",
    "from functools import partial\n",
    "from multiprocessing import Pool\n",
    "import joblib\n"
   ]
  },
  {
   "cell_type": "markdown",
   "metadata": {},
   "source": [
    "###  Estimators"
   ]
  },
  {
   "cell_type": "markdown",
   "metadata": {},
   "source": [
    "#### XGBOOST"
   ]
  },
  {
   "cell_type": "code",
   "execution_count": 4,
   "metadata": {},
   "outputs": [],
   "source": [
    "def get_train_test(complete_df):\n",
    "    #split, process and return  X_train, X_test, y_train, y_test\n",
    "    df_train, df_test = train_test_split(complete_df, test_size=0.3,stratify=complete_df['LABEL'])\n",
    "    \n",
    "    count = df_train['LABEL'].value_counts()\n",
    "    count[count.isin([min(count)])].index[0]\n",
    "    under_sampled = df_train[df_train['LABEL']==count[count.isin([max(count)])].index[0]].sample(min(count))\n",
    "    balanced_df = pd.concat([under_sampled, df_train[df_train['LABEL']==count[count.isin([min(count)])].index[0]]], axis=0)\n",
    "    X_train = balanced_df[balanced_df.columns[0:-1]]\n",
    "    X_test = df_test[balanced_df.columns[0:-1]]\n",
    "    y_label = balanced_df['LABEL']\n",
    "    y_label_test = df_test['LABEL']\n",
    "    le = LabelEncoder()\n",
    "    le.fit(y_label)\n",
    "    # le.classes_\n",
    "    y_train = le.transform(y_label)\n",
    "    y_test = le.transform(y_label_test)\n",
    "    return X_train, X_test, y_train, y_test\n",
    "\n"
   ]
  },
  {
   "cell_type": "code",
   "execution_count": 22,
   "metadata": {},
   "outputs": [],
   "source": [
    "def test_model(svm_XGB_best2):\n",
    "    #test model with our tests\n",
    "    \n",
    "    #read tests\n",
    "    new_test_taylor_r = pd.read_csv('Data/extracted_segment_10_extracted_segment_Taylor Swift Talks Record-Breaking Midnights Album, Music Video Cameos and Easter Eggs.csv')\n",
    "    new_test_bidenf = pd.read_csv('Data/audio_features_biden_AI.csv')\n",
    "    new_test_bidenr = pd.read_csv('Data/audio_features_biden.csv')\n",
    "    new_test_el = pd.read_csv('Data/Elise.csv')\n",
    "    new_test_yr1 = pd.read_csv('Data/Youssef.csv')\n",
    "    new_test_yr2 = pd.read_csv('Data/Youssef_2.csv')\n",
    "    new_test_yf1 = pd.read_csv('Data/Youssef_Eric Cartman.csv')\n",
    "    new_test_yf2 = pd.read_csv('Data/Youssef_2_Female.csv')\n",
    "    new_test_yf3  = pd.read_csv('Data/Youssef_2_Male Reggaeton.csv')\n",
    "    new_test_MF_f  = pd.read_csv('Data/Morgan Freeman_fake.csv')\n",
    "    new_test_MF_r  = pd.read_csv('Data/Morgan Freeman_real.csv')\n",
    "    new_test_And_r = pd.read_csv('Data/Andrea.csv')\n",
    "    new_test_And_f = pd.read_csv('Data/Andrea_to_Youss.csv')\n",
    "    \n",
    "    #make y_true\n",
    "    y_real = np.ones((1000,))\n",
    "    y_fake = np.zeros((1000,))\n",
    "    \n",
    "    #predict and get accuray score\n",
    "    pred = svm_XGB_best2.predict(new_test_taylor_r)\n",
    "    taylor_r = accuracy_score(y_real[:len(pred)],pred)\n",
    "    print('Real Taylor : ' , taylor_r)\n",
    "    \n",
    "    pred = svm_XGB_best2.predict(new_test_bidenf[new_test_bidenf.columns[0:-2]])\n",
    "    bidenf = accuracy_score(y_fake[:len(pred)],pred)\n",
    "    print('Fake Biden : ' , bidenf)\n",
    "\n",
    "    pred = svm_XGB_best2.predict(new_test_bidenr[new_test_bidenf.columns[0:-2]])\n",
    "    bidenr=accuracy_score(y_real[:len(pred)],pred)\n",
    "    print('Real Biden : ' , bidenr)\n",
    "\n",
    "    pred = svm_XGB_best2.predict(new_test_el)\n",
    "    eliser=accuracy_score(y_real[:len(pred)],pred)\n",
    "    print('Real Elise : ' , eliser)\n",
    "\n",
    "    pred = svm_XGB_best2.predict(new_test_yr1)\n",
    "    youssr1 = accuracy_score(y_real[:len(pred)],pred)\n",
    "    print('Real Youss_1 : ' , youssr1)\n",
    "\n",
    "    pred = svm_XGB_best2.predict(new_test_yr2)\n",
    "    youssr2 = accuracy_score(y_real[:len(pred)],pred)\n",
    "    print('Real Youss_2 : ' , youssr2)\n",
    "\n",
    "    pred = svm_XGB_best2.predict(new_test_yf1)\n",
    "    youssf1 = accuracy_score(y_fake[:len(pred)],pred)\n",
    "    print('Fake Youss_1 : ' , youssf1)\n",
    "\n",
    "    pred = svm_XGB_best2.predict(new_test_yf2)\n",
    "    youssf2 = accuracy_score(y_fake[:len(pred)],pred)\n",
    "    print('Fake Youss_2 : ' , youssf2)\n",
    "\n",
    "    pred = svm_XGB_best2.predict(new_test_yf3)\n",
    "    youssf3 = accuracy_score(y_fake[:len(pred)],pred)\n",
    "    print('Fake Youss_3 : ' , youssf3)\n",
    "\n",
    "    pred = svm_XGB_best2.predict(new_test_MF_f)\n",
    "    morganf = accuracy_score(y_fake[:len(pred)],pred)\n",
    "    print('Fake Morgan : ' , morganf)\n",
    "\n",
    "    pred = svm_XGB_best2.predict(new_test_MF_r)\n",
    "    morganr = accuracy_score(y_real[:len(pred)],pred)\n",
    "    print('Real Morgan : ' , morganr)\n",
    "\n",
    "    pred = svm_XGB_best2.predict(new_test_And_f)\n",
    "    andf = accuracy_score(y_fake[:len(pred)],pred)\n",
    "    print('Fake Andrea : ' , andf)\n",
    "\n",
    "    pred = svm_XGB_best2.predict(new_test_And_r)\n",
    "    andr = accuracy_score(y_real[:len(pred)],pred)\n",
    "    print('Real Andrea : ' , andr)\n",
    "\n",
    "    "
   ]
  },
  {
   "cell_type": "code",
   "execution_count": 5,
   "metadata": {},
   "outputs": [],
   "source": [
    "complete_df = pd.read_csv('Data/New_features.csv')\n",
    "\n",
    "X_train, X_test, y_train, y_test = get_train_test(complete_df)\n"
   ]
  },
  {
   "cell_type": "code",
   "execution_count": 6,
   "metadata": {},
   "outputs": [
    {
     "data": {
      "text/plain": [
       "(8981,)"
      ]
     },
     "execution_count": 6,
     "metadata": {},
     "output_type": "execute_result"
    }
   ],
   "source": [
    "y_test.shape"
   ]
  },
  {
   "cell_type": "code",
   "execution_count": 9,
   "metadata": {},
   "outputs": [
    {
     "data": {
      "text/plain": [
       "array([0.9351145 , 0.9351145 , 0.94465649, 0.95419847, 0.94274809,\n",
       "       0.96374046, 0.94274809, 0.9389313 , 0.93690249, 0.93690249])"
      ]
     },
     "execution_count": 9,
     "metadata": {},
     "output_type": "execute_result"
    }
   ],
   "source": [
    "# Instantiate model\n",
    "model_xgb = XGBClassifier(max_depth=10, \n",
    "                         n_estimators=300, \n",
    "                         learning_rate=0.1)\n",
    "\n",
    "score_accuracy = cross_val_score(model_xgb,X_train,y_train,cv=10,scoring='accuracy',n_jobs=-1)\n",
    "score_accuracy"
   ]
  },
  {
   "cell_type": "code",
   "execution_count": null,
   "metadata": {},
   "outputs": [],
   "source": [
    "#grid searching best params with randomized search\n",
    "grid = {'n_estimators': randint(1, 400),\n",
    "        'max_depth': randint(1, 13),  \n",
    "        'learning_rate': loguniform (0.001, 0.5)\n",
    "        # 'max_leaves' : \n",
    "       }\n",
    "bst = XGBClassifier()\n",
    "# Instantiate Grid Search\n",
    "search = RandomizedSearchCV(\n",
    "    bst,\n",
    "    grid, \n",
    "    scoring='precision',\n",
    "    n_iter=100,  \n",
    "    cv=5, n_jobs=-1\n",
    ")\n",
    "\n",
    "search.fit(X_train, y_train)\n",
    "search.best_estimator_"
   ]
  },
  {
   "cell_type": "code",
   "execution_count": 13,
   "metadata": {},
   "outputs": [
    {
     "data": {
      "text/html": [
       "<style>#sk-container-id-1 {color: black;}#sk-container-id-1 pre{padding: 0;}#sk-container-id-1 div.sk-toggleable {background-color: white;}#sk-container-id-1 label.sk-toggleable__label {cursor: pointer;display: block;width: 100%;margin-bottom: 0;padding: 0.3em;box-sizing: border-box;text-align: center;}#sk-container-id-1 label.sk-toggleable__label-arrow:before {content: \"▸\";float: left;margin-right: 0.25em;color: #696969;}#sk-container-id-1 label.sk-toggleable__label-arrow:hover:before {color: black;}#sk-container-id-1 div.sk-estimator:hover label.sk-toggleable__label-arrow:before {color: black;}#sk-container-id-1 div.sk-toggleable__content {max-height: 0;max-width: 0;overflow: hidden;text-align: left;background-color: #f0f8ff;}#sk-container-id-1 div.sk-toggleable__content pre {margin: 0.2em;color: black;border-radius: 0.25em;background-color: #f0f8ff;}#sk-container-id-1 input.sk-toggleable__control:checked~div.sk-toggleable__content {max-height: 200px;max-width: 100%;overflow: auto;}#sk-container-id-1 input.sk-toggleable__control:checked~label.sk-toggleable__label-arrow:before {content: \"▾\";}#sk-container-id-1 div.sk-estimator input.sk-toggleable__control:checked~label.sk-toggleable__label {background-color: #d4ebff;}#sk-container-id-1 div.sk-label input.sk-toggleable__control:checked~label.sk-toggleable__label {background-color: #d4ebff;}#sk-container-id-1 input.sk-hidden--visually {border: 0;clip: rect(1px 1px 1px 1px);clip: rect(1px, 1px, 1px, 1px);height: 1px;margin: -1px;overflow: hidden;padding: 0;position: absolute;width: 1px;}#sk-container-id-1 div.sk-estimator {font-family: monospace;background-color: #f0f8ff;border: 1px dotted black;border-radius: 0.25em;box-sizing: border-box;margin-bottom: 0.5em;}#sk-container-id-1 div.sk-estimator:hover {background-color: #d4ebff;}#sk-container-id-1 div.sk-parallel-item::after {content: \"\";width: 100%;border-bottom: 1px solid gray;flex-grow: 1;}#sk-container-id-1 div.sk-label:hover label.sk-toggleable__label {background-color: #d4ebff;}#sk-container-id-1 div.sk-serial::before {content: \"\";position: absolute;border-left: 1px solid gray;box-sizing: border-box;top: 0;bottom: 0;left: 50%;z-index: 0;}#sk-container-id-1 div.sk-serial {display: flex;flex-direction: column;align-items: center;background-color: white;padding-right: 0.2em;padding-left: 0.2em;position: relative;}#sk-container-id-1 div.sk-item {position: relative;z-index: 1;}#sk-container-id-1 div.sk-parallel {display: flex;align-items: stretch;justify-content: center;background-color: white;position: relative;}#sk-container-id-1 div.sk-item::before, #sk-container-id-1 div.sk-parallel-item::before {content: \"\";position: absolute;border-left: 1px solid gray;box-sizing: border-box;top: 0;bottom: 0;left: 50%;z-index: -1;}#sk-container-id-1 div.sk-parallel-item {display: flex;flex-direction: column;z-index: 1;position: relative;background-color: white;}#sk-container-id-1 div.sk-parallel-item:first-child::after {align-self: flex-end;width: 50%;}#sk-container-id-1 div.sk-parallel-item:last-child::after {align-self: flex-start;width: 50%;}#sk-container-id-1 div.sk-parallel-item:only-child::after {width: 0;}#sk-container-id-1 div.sk-dashed-wrapped {border: 1px dashed gray;margin: 0 0.4em 0.5em 0.4em;box-sizing: border-box;padding-bottom: 0.4em;background-color: white;}#sk-container-id-1 div.sk-label label {font-family: monospace;font-weight: bold;display: inline-block;line-height: 1.2em;}#sk-container-id-1 div.sk-label-container {text-align: center;}#sk-container-id-1 div.sk-container {/* jupyter's `normalize.less` sets `[hidden] { display: none; }` but bootstrap.min.css set `[hidden] { display: none !important; }` so we also need the `!important` here to be able to override the default hidden behavior on the sphinx rendered scikit-learn.org. See: https://github.com/scikit-learn/scikit-learn/issues/21755 */display: inline-block !important;position: relative;}#sk-container-id-1 div.sk-text-repr-fallback {display: none;}</style><div id=\"sk-container-id-1\" class=\"sk-top-container\"><div class=\"sk-text-repr-fallback\"><pre>XGBClassifier(base_score=None, booster=None, callbacks=None,\n",
       "              colsample_bylevel=None, colsample_bynode=None,\n",
       "              colsample_bytree=None, device=None, early_stopping_rounds=None,\n",
       "              enable_categorical=False, eval_metric=None, feature_types=None,\n",
       "              gamma=None, grow_policy=None, importance_type=None,\n",
       "              interaction_constraints=None, learning_rate=0.2, max_bin=None,\n",
       "              max_cat_threshold=None, max_cat_to_onehot=None,\n",
       "              max_delta_step=None, max_depth=6, max_leaves=None,\n",
       "              min_child_weight=None, missing=nan, monotone_constraints=None,\n",
       "              multi_strategy=None, n_estimators=300, n_jobs=None,\n",
       "              num_parallel_tree=None, random_state=None, ...)</pre><b>In a Jupyter environment, please rerun this cell to show the HTML representation or trust the notebook. <br />On GitHub, the HTML representation is unable to render, please try loading this page with nbviewer.org.</b></div><div class=\"sk-container\" hidden><div class=\"sk-item\"><div class=\"sk-estimator sk-toggleable\"><input class=\"sk-toggleable__control sk-hidden--visually\" id=\"sk-estimator-id-1\" type=\"checkbox\" checked><label for=\"sk-estimator-id-1\" class=\"sk-toggleable__label sk-toggleable__label-arrow\">XGBClassifier</label><div class=\"sk-toggleable__content\"><pre>XGBClassifier(base_score=None, booster=None, callbacks=None,\n",
       "              colsample_bylevel=None, colsample_bynode=None,\n",
       "              colsample_bytree=None, device=None, early_stopping_rounds=None,\n",
       "              enable_categorical=False, eval_metric=None, feature_types=None,\n",
       "              gamma=None, grow_policy=None, importance_type=None,\n",
       "              interaction_constraints=None, learning_rate=0.2, max_bin=None,\n",
       "              max_cat_threshold=None, max_cat_to_onehot=None,\n",
       "              max_delta_step=None, max_depth=6, max_leaves=None,\n",
       "              min_child_weight=None, missing=nan, monotone_constraints=None,\n",
       "              multi_strategy=None, n_estimators=300, n_jobs=None,\n",
       "              num_parallel_tree=None, random_state=None, ...)</pre></div></div></div></div></div>"
      ],
      "text/plain": [
       "XGBClassifier(base_score=None, booster=None, callbacks=None,\n",
       "              colsample_bylevel=None, colsample_bynode=None,\n",
       "              colsample_bytree=None, device=None, early_stopping_rounds=None,\n",
       "              enable_categorical=False, eval_metric=None, feature_types=None,\n",
       "              gamma=None, grow_policy=None, importance_type=None,\n",
       "              interaction_constraints=None, learning_rate=0.2, max_bin=None,\n",
       "              max_cat_threshold=None, max_cat_to_onehot=None,\n",
       "              max_delta_step=None, max_depth=6, max_leaves=None,\n",
       "              min_child_weight=None, missing=nan, monotone_constraints=None,\n",
       "              multi_strategy=None, n_estimators=300, n_jobs=None,\n",
       "              num_parallel_tree=None, random_state=None, ...)"
      ]
     },
     "execution_count": 13,
     "metadata": {},
     "output_type": "execute_result"
    }
   ],
   "source": [
    "#grid searching best params\n",
    "grid = {'n_estimators': [200,209,300,350,400],\n",
    "        'max_depth': range(5,8),  \n",
    "        'learning_rate': [0.015363601183606038, 0.02, 0.2]\n",
    "       }\n",
    "bst = XGBClassifier()\n",
    "# # Instantiate Grid Search\n",
    "search = GridSearchCV(\n",
    "     bst,\n",
    "     grid, \n",
    "     scoring='precision',\n",
    "     cv=5, n_jobs=-1\n",
    ")\n",
    "search.fit(X_train, y_train)\n",
    "search.best_estimator_\n"
   ]
  },
  {
   "cell_type": "code",
   "execution_count": 16,
   "metadata": {},
   "outputs": [
    {
     "data": {
      "text/plain": [
       "array([0.9389313 , 0.9370229 , 0.94465649, 0.96183206, 0.94274809,\n",
       "       0.95610687, 0.94083969, 0.92175573, 0.94455067, 0.93881453])"
      ]
     },
     "execution_count": 16,
     "metadata": {},
     "output_type": "execute_result"
    }
   ],
   "source": [
    "svm_XGB_best = search.best_estimator_\n",
    "\n",
    "cross_val_score(svm_XGB_best,X_train,y_train,cv=10,scoring='accuracy',n_jobs=-1)"
   ]
  },
  {
   "cell_type": "code",
   "execution_count": 17,
   "metadata": {},
   "outputs": [
    {
     "data": {
      "text/plain": [
       "array([0.93560606, 0.92250923, 0.9330855 , 0.95833333, 0.92335766,\n",
       "       0.96138996, 0.92619926, 0.92664093, 0.93939394, 0.94230769])"
      ]
     },
     "execution_count": 17,
     "metadata": {},
     "output_type": "execute_result"
    }
   ],
   "source": [
    "cross_val_score(svm_XGB_best,X_train,y_train,cv=10,scoring='precision',n_jobs=-1)"
   ]
  },
  {
   "cell_type": "code",
   "execution_count": 18,
   "metadata": {},
   "outputs": [
    {
     "data": {
      "text/plain": [
       "array([0, 1, 0, ..., 0, 0, 0])"
      ]
     },
     "execution_count": 18,
     "metadata": {},
     "output_type": "execute_result"
    }
   ],
   "source": [
    "svm_XGB_best.fit(X_train,y_train)\n",
    "y_pred_best = svm_XGB_best.predict(X_test)\n",
    "\n",
    "y_pred_best"
   ]
  },
  {
   "cell_type": "code",
   "execution_count": 19,
   "metadata": {},
   "outputs": [
    {
     "data": {
      "text/plain": [
       "0.9459971049994432"
      ]
     },
     "execution_count": 19,
     "metadata": {},
     "output_type": "execute_result"
    }
   ],
   "source": [
    "accuracy_score(y_test,y_pred_best)"
   ]
  },
  {
   "cell_type": "code",
   "execution_count": 20,
   "metadata": {},
   "outputs": [
    {
     "data": {
      "text/plain": [
       "0.7132352941176471"
      ]
     },
     "execution_count": 20,
     "metadata": {},
     "output_type": "execute_result"
    }
   ],
   "source": [
    "precision_score(y_test,y_pred_best)"
   ]
  },
  {
   "cell_type": "markdown",
   "metadata": {},
   "source": [
    "### Testing additional voices"
   ]
  },
  {
   "cell_type": "code",
   "execution_count": 24,
   "metadata": {},
   "outputs": [
    {
     "name": "stdout",
     "output_type": "stream",
     "text": [
      "Real Taylor :  0.3\n",
      "Fake Biden :  0.775\n",
      "Real Biden :  0.8305555555555556\n",
      "Real Elise :  0.08695652173913043\n",
      "Real Youss_1 :  0.0\n",
      "Real Youss_2 :  0.9833333333333333\n",
      "Fake Youss_1 :  1.0\n",
      "Fake Youss_2 :  1.0\n",
      "Fake Youss_3 :  0.016666666666666666\n",
      "Fake Morgan :  0.7142857142857143\n",
      "Real Morgan :  0.5172413793103449\n",
      "Fake Andrea :  1.0\n",
      "Real Andrea :  0.0\n"
     ]
    }
   ],
   "source": [
    "test_model(svm_XGB_best)"
   ]
  }
 ],
 "metadata": {
  "kernelspec": {
   "display_name": "lewagon",
   "language": "python",
   "name": "python3"
  },
  "language_info": {
   "codemirror_mode": {
    "name": "ipython",
    "version": 3
   },
   "file_extension": ".py",
   "mimetype": "text/x-python",
   "name": "python",
   "nbconvert_exporter": "python",
   "pygments_lexer": "ipython3",
   "version": "3.10.6"
  }
 },
 "nbformat": 4,
 "nbformat_minor": 2
}

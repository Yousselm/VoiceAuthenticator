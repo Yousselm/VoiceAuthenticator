{
 "cells": [
  {
   "cell_type": "markdown",
   "id": "47d9500e",
   "metadata": {},
   "source": [
    "spinWords(\"Hey fellow Le Wagon alumni\") => \"Hey wollef Le nogaW inmula\"\n",
    "spinWords(\"Rake it until you make it\") => \"Rake it litnu you make it\"\n",
    "spinWords(\"Change your life, learn to code\") => \"egnahC your life, nrael to code\""
   ]
  },
  {
   "cell_type": "code",
   "execution_count": 78,
   "id": "f844c12e",
   "metadata": {},
   "outputs": [],
   "source": [
    "import string\n",
    "def spinWords(sentence):\n",
    "    words =  sentence.split()\n",
    "    list_r =[]\n",
    "    for word in words:\n",
    "        punctuation = ''\n",
    "        if word[-1] in string.punctuation:\n",
    "            punctuation = word[-1]\n",
    "            word = word[0:-1]\n",
    "        if len(word) > 5:\n",
    "            word = ''.join(word[::-1]) \n",
    "        list_r.append(word + punctuation)\n",
    "    return \" \".join(list_r)"
   ]
  },
  {
   "cell_type": "code",
   "execution_count": 79,
   "id": "1126bde1",
   "metadata": {},
   "outputs": [
    {
     "data": {
      "text/plain": [
       "'egnahC your life, learn to code'"
      ]
     },
     "execution_count": 79,
     "metadata": {},
     "output_type": "execute_result"
    }
   ],
   "source": [
    "spinWords(\"Change your life, learn to code\")"
   ]
  },
  {
   "cell_type": "code",
   "execution_count": 37,
   "id": "19df6770",
   "metadata": {},
   "outputs": [],
   "source": [
    "def spinWords2(str_):\n",
    "    return \" \".join([word[::-1] if len(word)>=5 else word for word in str_.split()] )\n",
    "\n",
    "    "
   ]
  },
  {
   "cell_type": "code",
   "execution_count": 38,
   "id": "543c0e1f",
   "metadata": {},
   "outputs": [
    {
     "data": {
      "text/plain": [
       "'egnahC your ,efil nrael to code'"
      ]
     },
     "execution_count": 38,
     "metadata": {},
     "output_type": "execute_result"
    }
   ],
   "source": [
    "spinWords2(\"Change your life, learn to code\")"
   ]
  }
 ],
 "metadata": {
  "kernelspec": {
   "display_name": "Python 3 (ipykernel)",
   "language": "python",
   "name": "python3"
  },
  "language_info": {
   "codemirror_mode": {
    "name": "ipython",
    "version": 3
   },
   "file_extension": ".py",
   "mimetype": "text/x-python",
   "name": "python",
   "nbconvert_exporter": "python",
   "pygments_lexer": "ipython3",
   "version": "3.10.6"
  },
  "toc": {
   "base_numbering": 1,
   "nav_menu": {},
   "number_sections": true,
   "sideBar": true,
   "skip_h1_title": false,
   "title_cell": "Table of Contents",
   "title_sidebar": "Contents",
   "toc_cell": false,
   "toc_position": {},
   "toc_section_display": true,
   "toc_window_display": false
  }
 },
 "nbformat": 4,
 "nbformat_minor": 5
}
